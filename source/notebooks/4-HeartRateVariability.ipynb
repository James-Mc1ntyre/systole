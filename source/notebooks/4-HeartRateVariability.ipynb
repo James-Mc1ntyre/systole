{
 "cells": [
  {
   "cell_type": "markdown",
   "id": "914afdf8",
   "metadata": {},
   "source": [
    "Author: Nicolas Legrand <nicolas.legrand@cfin.au.dk>"
   ]
  },
  {
   "cell_type": "code",
   "execution_count": 1,
   "id": "916ec766",
   "metadata": {},
   "outputs": [
    {
     "data": {
      "text/html": [
       "\n",
       "    <div class=\"bk-root\">\n",
       "        <a href=\"https://bokeh.org\" target=\"_blank\" class=\"bk-logo bk-logo-small bk-logo-notebook\"></a>\n",
       "        <span id=\"1002\">Loading BokehJS ...</span>\n",
       "    </div>"
      ]
     },
     "metadata": {},
     "output_type": "display_data"
    },
    {
     "data": {
      "application/javascript": [
       "\n",
       "(function(root) {\n",
       "  function now() {\n",
       "    return new Date();\n",
       "  }\n",
       "\n",
       "  var force = true;\n",
       "\n",
       "  if (typeof root._bokeh_onload_callbacks === \"undefined\" || force === true) {\n",
       "    root._bokeh_onload_callbacks = [];\n",
       "    root._bokeh_is_loading = undefined;\n",
       "  }\n",
       "\n",
       "  var JS_MIME_TYPE = 'application/javascript';\n",
       "  var HTML_MIME_TYPE = 'text/html';\n",
       "  var EXEC_MIME_TYPE = 'application/vnd.bokehjs_exec.v0+json';\n",
       "  var CLASS_NAME = 'output_bokeh rendered_html';\n",
       "\n",
       "  /**\n",
       "   * Render data to the DOM node\n",
       "   */\n",
       "  function render(props, node) {\n",
       "    var script = document.createElement(\"script\");\n",
       "    node.appendChild(script);\n",
       "  }\n",
       "\n",
       "  /**\n",
       "   * Handle when an output is cleared or removed\n",
       "   */\n",
       "  function handleClearOutput(event, handle) {\n",
       "    var cell = handle.cell;\n",
       "\n",
       "    var id = cell.output_area._bokeh_element_id;\n",
       "    var server_id = cell.output_area._bokeh_server_id;\n",
       "    // Clean up Bokeh references\n",
       "    if (id != null && id in Bokeh.index) {\n",
       "      Bokeh.index[id].model.document.clear();\n",
       "      delete Bokeh.index[id];\n",
       "    }\n",
       "\n",
       "    if (server_id !== undefined) {\n",
       "      // Clean up Bokeh references\n",
       "      var cmd = \"from bokeh.io.state import curstate; print(curstate().uuid_to_server['\" + server_id + \"'].get_sessions()[0].document.roots[0]._id)\";\n",
       "      cell.notebook.kernel.execute(cmd, {\n",
       "        iopub: {\n",
       "          output: function(msg) {\n",
       "            var id = msg.content.text.trim();\n",
       "            if (id in Bokeh.index) {\n",
       "              Bokeh.index[id].model.document.clear();\n",
       "              delete Bokeh.index[id];\n",
       "            }\n",
       "          }\n",
       "        }\n",
       "      });\n",
       "      // Destroy server and session\n",
       "      var cmd = \"import bokeh.io.notebook as ion; ion.destroy_server('\" + server_id + \"')\";\n",
       "      cell.notebook.kernel.execute(cmd);\n",
       "    }\n",
       "  }\n",
       "\n",
       "  /**\n",
       "   * Handle when a new output is added\n",
       "   */\n",
       "  function handleAddOutput(event, handle) {\n",
       "    var output_area = handle.output_area;\n",
       "    var output = handle.output;\n",
       "\n",
       "    // limit handleAddOutput to display_data with EXEC_MIME_TYPE content only\n",
       "    if ((output.output_type != \"display_data\") || (!Object.prototype.hasOwnProperty.call(output.data, EXEC_MIME_TYPE))) {\n",
       "      return\n",
       "    }\n",
       "\n",
       "    var toinsert = output_area.element.find(\".\" + CLASS_NAME.split(' ')[0]);\n",
       "\n",
       "    if (output.metadata[EXEC_MIME_TYPE][\"id\"] !== undefined) {\n",
       "      toinsert[toinsert.length - 1].firstChild.textContent = output.data[JS_MIME_TYPE];\n",
       "      // store reference to embed id on output_area\n",
       "      output_area._bokeh_element_id = output.metadata[EXEC_MIME_TYPE][\"id\"];\n",
       "    }\n",
       "    if (output.metadata[EXEC_MIME_TYPE][\"server_id\"] !== undefined) {\n",
       "      var bk_div = document.createElement(\"div\");\n",
       "      bk_div.innerHTML = output.data[HTML_MIME_TYPE];\n",
       "      var script_attrs = bk_div.children[0].attributes;\n",
       "      for (var i = 0; i < script_attrs.length; i++) {\n",
       "        toinsert[toinsert.length - 1].firstChild.setAttribute(script_attrs[i].name, script_attrs[i].value);\n",
       "        toinsert[toinsert.length - 1].firstChild.textContent = bk_div.children[0].textContent\n",
       "      }\n",
       "      // store reference to server id on output_area\n",
       "      output_area._bokeh_server_id = output.metadata[EXEC_MIME_TYPE][\"server_id\"];\n",
       "    }\n",
       "  }\n",
       "\n",
       "  function register_renderer(events, OutputArea) {\n",
       "\n",
       "    function append_mime(data, metadata, element) {\n",
       "      // create a DOM node to render to\n",
       "      var toinsert = this.create_output_subarea(\n",
       "        metadata,\n",
       "        CLASS_NAME,\n",
       "        EXEC_MIME_TYPE\n",
       "      );\n",
       "      this.keyboard_manager.register_events(toinsert);\n",
       "      // Render to node\n",
       "      var props = {data: data, metadata: metadata[EXEC_MIME_TYPE]};\n",
       "      render(props, toinsert[toinsert.length - 1]);\n",
       "      element.append(toinsert);\n",
       "      return toinsert\n",
       "    }\n",
       "\n",
       "    /* Handle when an output is cleared or removed */\n",
       "    events.on('clear_output.CodeCell', handleClearOutput);\n",
       "    events.on('delete.Cell', handleClearOutput);\n",
       "\n",
       "    /* Handle when a new output is added */\n",
       "    events.on('output_added.OutputArea', handleAddOutput);\n",
       "\n",
       "    /**\n",
       "     * Register the mime type and append_mime function with output_area\n",
       "     */\n",
       "    OutputArea.prototype.register_mime_type(EXEC_MIME_TYPE, append_mime, {\n",
       "      /* Is output safe? */\n",
       "      safe: true,\n",
       "      /* Index of renderer in `output_area.display_order` */\n",
       "      index: 0\n",
       "    });\n",
       "  }\n",
       "\n",
       "  // register the mime type if in Jupyter Notebook environment and previously unregistered\n",
       "  if (root.Jupyter !== undefined) {\n",
       "    var events = require('base/js/events');\n",
       "    var OutputArea = require('notebook/js/outputarea').OutputArea;\n",
       "\n",
       "    if (OutputArea.prototype.mime_types().indexOf(EXEC_MIME_TYPE) == -1) {\n",
       "      register_renderer(events, OutputArea);\n",
       "    }\n",
       "  }\n",
       "\n",
       "  \n",
       "  if (typeof (root._bokeh_timeout) === \"undefined\" || force === true) {\n",
       "    root._bokeh_timeout = Date.now() + 5000;\n",
       "    root._bokeh_failed_load = false;\n",
       "  }\n",
       "\n",
       "  var NB_LOAD_WARNING = {'data': {'text/html':\n",
       "     \"<div style='background-color: #fdd'>\\n\"+\n",
       "     \"<p>\\n\"+\n",
       "     \"BokehJS does not appear to have successfully loaded. If loading BokehJS from CDN, this \\n\"+\n",
       "     \"may be due to a slow or bad network connection. Possible fixes:\\n\"+\n",
       "     \"</p>\\n\"+\n",
       "     \"<ul>\\n\"+\n",
       "     \"<li>re-rerun `output_notebook()` to attempt to load from CDN again, or</li>\\n\"+\n",
       "     \"<li>use INLINE resources instead, as so:</li>\\n\"+\n",
       "     \"</ul>\\n\"+\n",
       "     \"<code>\\n\"+\n",
       "     \"from bokeh.resources import INLINE\\n\"+\n",
       "     \"output_notebook(resources=INLINE)\\n\"+\n",
       "     \"</code>\\n\"+\n",
       "     \"</div>\"}};\n",
       "\n",
       "  function display_loaded() {\n",
       "    var el = document.getElementById(\"1002\");\n",
       "    if (el != null) {\n",
       "      el.textContent = \"BokehJS is loading...\";\n",
       "    }\n",
       "    if (root.Bokeh !== undefined) {\n",
       "      if (el != null) {\n",
       "        el.textContent = \"BokehJS \" + root.Bokeh.version + \" successfully loaded.\";\n",
       "      }\n",
       "    } else if (Date.now() < root._bokeh_timeout) {\n",
       "      setTimeout(display_loaded, 100)\n",
       "    }\n",
       "  }\n",
       "\n",
       "\n",
       "  function run_callbacks() {\n",
       "    try {\n",
       "      root._bokeh_onload_callbacks.forEach(function(callback) {\n",
       "        if (callback != null)\n",
       "          callback();\n",
       "      });\n",
       "    } finally {\n",
       "      delete root._bokeh_onload_callbacks\n",
       "    }\n",
       "    console.debug(\"Bokeh: all callbacks have finished\");\n",
       "  }\n",
       "\n",
       "  function load_libs(css_urls, js_urls, callback) {\n",
       "    if (css_urls == null) css_urls = [];\n",
       "    if (js_urls == null) js_urls = [];\n",
       "\n",
       "    root._bokeh_onload_callbacks.push(callback);\n",
       "    if (root._bokeh_is_loading > 0) {\n",
       "      console.debug(\"Bokeh: BokehJS is being loaded, scheduling callback at\", now());\n",
       "      return null;\n",
       "    }\n",
       "    if (js_urls == null || js_urls.length === 0) {\n",
       "      run_callbacks();\n",
       "      return null;\n",
       "    }\n",
       "    console.debug(\"Bokeh: BokehJS not loaded, scheduling load and callback at\", now());\n",
       "    root._bokeh_is_loading = css_urls.length + js_urls.length;\n",
       "\n",
       "    function on_load() {\n",
       "      root._bokeh_is_loading--;\n",
       "      if (root._bokeh_is_loading === 0) {\n",
       "        console.debug(\"Bokeh: all BokehJS libraries/stylesheets loaded\");\n",
       "        run_callbacks()\n",
       "      }\n",
       "    }\n",
       "\n",
       "    function on_error(url) {\n",
       "      console.error(\"failed to load \" + url);\n",
       "    }\n",
       "\n",
       "    for (let i = 0; i < css_urls.length; i++) {\n",
       "      const url = css_urls[i];\n",
       "      const element = document.createElement(\"link\");\n",
       "      element.onload = on_load;\n",
       "      element.onerror = on_error.bind(null, url);\n",
       "      element.rel = \"stylesheet\";\n",
       "      element.type = \"text/css\";\n",
       "      element.href = url;\n",
       "      console.debug(\"Bokeh: injecting link tag for BokehJS stylesheet: \", url);\n",
       "      document.body.appendChild(element);\n",
       "    }\n",
       "\n",
       "    const hashes = {\"https://cdn.bokeh.org/bokeh/release/bokeh-2.3.3.min.js\": \"dM3QQsP+wXdHg42wTqW85BjZQdLNNIXqlPw/BgKoExPmTG7ZLML4EGqLMfqHT6ON\", \"https://cdn.bokeh.org/bokeh/release/bokeh-tables-2.3.3.min.js\": \"8x57I4YuIfu8XyZfFo0XVr2WAT8EK4rh/uDe3wF7YuW2FNUSNEpJbsPaB1nJ2fz2\", \"https://cdn.bokeh.org/bokeh/release/bokeh-widgets-2.3.3.min.js\": \"3QTqdz9LyAm2i0sG5XTePsHec3UHWwVsrOL68SYRoAXsafvfAyqtQ+h440+qIBhS\"};\n",
       "\n",
       "    for (let i = 0; i < js_urls.length; i++) {\n",
       "      const url = js_urls[i];\n",
       "      const element = document.createElement('script');\n",
       "      element.onload = on_load;\n",
       "      element.onerror = on_error.bind(null, url);\n",
       "      element.async = false;\n",
       "      element.src = url;\n",
       "      if (url in hashes) {\n",
       "        element.crossOrigin = \"anonymous\";\n",
       "        element.integrity = \"sha384-\" + hashes[url];\n",
       "      }\n",
       "      console.debug(\"Bokeh: injecting script tag for BokehJS library: \", url);\n",
       "      document.head.appendChild(element);\n",
       "    }\n",
       "  };\n",
       "\n",
       "  function inject_raw_css(css) {\n",
       "    const element = document.createElement(\"style\");\n",
       "    element.appendChild(document.createTextNode(css));\n",
       "    document.body.appendChild(element);\n",
       "  }\n",
       "\n",
       "  \n",
       "  var js_urls = [\"https://cdn.bokeh.org/bokeh/release/bokeh-2.3.3.min.js\", \"https://cdn.bokeh.org/bokeh/release/bokeh-widgets-2.3.3.min.js\", \"https://cdn.bokeh.org/bokeh/release/bokeh-tables-2.3.3.min.js\"];\n",
       "  var css_urls = [];\n",
       "  \n",
       "\n",
       "  var inline_js = [\n",
       "    function(Bokeh) {\n",
       "      Bokeh.set_log_level(\"info\");\n",
       "    },\n",
       "    function(Bokeh) {\n",
       "    \n",
       "    \n",
       "    }\n",
       "  ];\n",
       "\n",
       "  function run_inline_js() {\n",
       "    \n",
       "    if (root.Bokeh !== undefined || force === true) {\n",
       "      \n",
       "    for (var i = 0; i < inline_js.length; i++) {\n",
       "      inline_js[i].call(root, root.Bokeh);\n",
       "    }\n",
       "    if (force === true) {\n",
       "        display_loaded();\n",
       "      }} else if (Date.now() < root._bokeh_timeout) {\n",
       "      setTimeout(run_inline_js, 100);\n",
       "    } else if (!root._bokeh_failed_load) {\n",
       "      console.log(\"Bokeh: BokehJS failed to load within specified timeout.\");\n",
       "      root._bokeh_failed_load = true;\n",
       "    } else if (force !== true) {\n",
       "      var cell = $(document.getElementById(\"1002\")).parents('.cell').data().cell;\n",
       "      cell.output_area.append_execute_result(NB_LOAD_WARNING)\n",
       "    }\n",
       "\n",
       "  }\n",
       "\n",
       "  if (root._bokeh_is_loading === 0) {\n",
       "    console.debug(\"Bokeh: BokehJS loaded, going straight to plotting\");\n",
       "    run_inline_js();\n",
       "  } else {\n",
       "    load_libs(css_urls, js_urls, function() {\n",
       "      console.debug(\"Bokeh: BokehJS plotting callback run at\", now());\n",
       "      run_inline_js();\n",
       "    });\n",
       "  }\n",
       "}(window));"
      ],
      "application/vnd.bokehjs_load.v0+json": "\n(function(root) {\n  function now() {\n    return new Date();\n  }\n\n  var force = true;\n\n  if (typeof root._bokeh_onload_callbacks === \"undefined\" || force === true) {\n    root._bokeh_onload_callbacks = [];\n    root._bokeh_is_loading = undefined;\n  }\n\n  \n\n  \n  if (typeof (root._bokeh_timeout) === \"undefined\" || force === true) {\n    root._bokeh_timeout = Date.now() + 5000;\n    root._bokeh_failed_load = false;\n  }\n\n  var NB_LOAD_WARNING = {'data': {'text/html':\n     \"<div style='background-color: #fdd'>\\n\"+\n     \"<p>\\n\"+\n     \"BokehJS does not appear to have successfully loaded. If loading BokehJS from CDN, this \\n\"+\n     \"may be due to a slow or bad network connection. Possible fixes:\\n\"+\n     \"</p>\\n\"+\n     \"<ul>\\n\"+\n     \"<li>re-rerun `output_notebook()` to attempt to load from CDN again, or</li>\\n\"+\n     \"<li>use INLINE resources instead, as so:</li>\\n\"+\n     \"</ul>\\n\"+\n     \"<code>\\n\"+\n     \"from bokeh.resources import INLINE\\n\"+\n     \"output_notebook(resources=INLINE)\\n\"+\n     \"</code>\\n\"+\n     \"</div>\"}};\n\n  function display_loaded() {\n    var el = document.getElementById(\"1002\");\n    if (el != null) {\n      el.textContent = \"BokehJS is loading...\";\n    }\n    if (root.Bokeh !== undefined) {\n      if (el != null) {\n        el.textContent = \"BokehJS \" + root.Bokeh.version + \" successfully loaded.\";\n      }\n    } else if (Date.now() < root._bokeh_timeout) {\n      setTimeout(display_loaded, 100)\n    }\n  }\n\n\n  function run_callbacks() {\n    try {\n      root._bokeh_onload_callbacks.forEach(function(callback) {\n        if (callback != null)\n          callback();\n      });\n    } finally {\n      delete root._bokeh_onload_callbacks\n    }\n    console.debug(\"Bokeh: all callbacks have finished\");\n  }\n\n  function load_libs(css_urls, js_urls, callback) {\n    if (css_urls == null) css_urls = [];\n    if (js_urls == null) js_urls = [];\n\n    root._bokeh_onload_callbacks.push(callback);\n    if (root._bokeh_is_loading > 0) {\n      console.debug(\"Bokeh: BokehJS is being loaded, scheduling callback at\", now());\n      return null;\n    }\n    if (js_urls == null || js_urls.length === 0) {\n      run_callbacks();\n      return null;\n    }\n    console.debug(\"Bokeh: BokehJS not loaded, scheduling load and callback at\", now());\n    root._bokeh_is_loading = css_urls.length + js_urls.length;\n\n    function on_load() {\n      root._bokeh_is_loading--;\n      if (root._bokeh_is_loading === 0) {\n        console.debug(\"Bokeh: all BokehJS libraries/stylesheets loaded\");\n        run_callbacks()\n      }\n    }\n\n    function on_error(url) {\n      console.error(\"failed to load \" + url);\n    }\n\n    for (let i = 0; i < css_urls.length; i++) {\n      const url = css_urls[i];\n      const element = document.createElement(\"link\");\n      element.onload = on_load;\n      element.onerror = on_error.bind(null, url);\n      element.rel = \"stylesheet\";\n      element.type = \"text/css\";\n      element.href = url;\n      console.debug(\"Bokeh: injecting link tag for BokehJS stylesheet: \", url);\n      document.body.appendChild(element);\n    }\n\n    const hashes = {\"https://cdn.bokeh.org/bokeh/release/bokeh-2.3.3.min.js\": \"dM3QQsP+wXdHg42wTqW85BjZQdLNNIXqlPw/BgKoExPmTG7ZLML4EGqLMfqHT6ON\", \"https://cdn.bokeh.org/bokeh/release/bokeh-tables-2.3.3.min.js\": \"8x57I4YuIfu8XyZfFo0XVr2WAT8EK4rh/uDe3wF7YuW2FNUSNEpJbsPaB1nJ2fz2\", \"https://cdn.bokeh.org/bokeh/release/bokeh-widgets-2.3.3.min.js\": \"3QTqdz9LyAm2i0sG5XTePsHec3UHWwVsrOL68SYRoAXsafvfAyqtQ+h440+qIBhS\"};\n\n    for (let i = 0; i < js_urls.length; i++) {\n      const url = js_urls[i];\n      const element = document.createElement('script');\n      element.onload = on_load;\n      element.onerror = on_error.bind(null, url);\n      element.async = false;\n      element.src = url;\n      if (url in hashes) {\n        element.crossOrigin = \"anonymous\";\n        element.integrity = \"sha384-\" + hashes[url];\n      }\n      console.debug(\"Bokeh: injecting script tag for BokehJS library: \", url);\n      document.head.appendChild(element);\n    }\n  };\n\n  function inject_raw_css(css) {\n    const element = document.createElement(\"style\");\n    element.appendChild(document.createTextNode(css));\n    document.body.appendChild(element);\n  }\n\n  \n  var js_urls = [\"https://cdn.bokeh.org/bokeh/release/bokeh-2.3.3.min.js\", \"https://cdn.bokeh.org/bokeh/release/bokeh-widgets-2.3.3.min.js\", \"https://cdn.bokeh.org/bokeh/release/bokeh-tables-2.3.3.min.js\"];\n  var css_urls = [];\n  \n\n  var inline_js = [\n    function(Bokeh) {\n      Bokeh.set_log_level(\"info\");\n    },\n    function(Bokeh) {\n    \n    \n    }\n  ];\n\n  function run_inline_js() {\n    \n    if (root.Bokeh !== undefined || force === true) {\n      \n    for (var i = 0; i < inline_js.length; i++) {\n      inline_js[i].call(root, root.Bokeh);\n    }\n    if (force === true) {\n        display_loaded();\n      }} else if (Date.now() < root._bokeh_timeout) {\n      setTimeout(run_inline_js, 100);\n    } else if (!root._bokeh_failed_load) {\n      console.log(\"Bokeh: BokehJS failed to load within specified timeout.\");\n      root._bokeh_failed_load = true;\n    } else if (force !== true) {\n      var cell = $(document.getElementById(\"1002\")).parents('.cell').data().cell;\n      cell.output_area.append_execute_result(NB_LOAD_WARNING)\n    }\n\n  }\n\n  if (root._bokeh_is_loading === 0) {\n    console.debug(\"Bokeh: BokehJS loaded, going straight to plotting\");\n    run_inline_js();\n  } else {\n    load_libs(css_urls, js_urls, function() {\n      console.debug(\"Bokeh: BokehJS plotting callback run at\", now());\n      run_inline_js();\n    });\n  }\n}(window));"
     },
     "metadata": {},
     "output_type": "display_data"
    }
   ],
   "source": [
    "import os\n",
    "import pandas as pd\n",
    "import matplotlib.pyplot as plt\n",
    "import seaborn as sns\n",
    "import numpy as np\n",
    "from systole.detection import ecg_peaks\n",
    "from systole.plots import plot_frequency, plot_pointcare\n",
    "from systole import import_dataset1\n",
    "from systole.utils import input_conversion\n",
    "from systole.hrv import frequency_domain, time_domain, nonlinear\n",
    "\n",
    "from IPython.display import Image\n",
    "from IPython.core.display import HTML\n",
    "\n",
    "from bokeh.io import output_notebook\n",
    "from bokeh.plotting import show\n",
    "from bokeh.layouts import row\n",
    "output_notebook()\n",
    "\n",
    "sns.set_context('talk')"
   ]
  },
  {
   "cell_type": "code",
   "execution_count": 2,
   "id": "57cc8545",
   "metadata": {},
   "outputs": [
    {
     "name": "stderr",
     "output_type": "stream",
     "text": [
      "Downloading ECG channel: 100%|███████████████████████████████████████████████████████████| 1/1 [00:03<00:00,  3.45s/it]\n"
     ]
    }
   ],
   "source": [
    "# Import ECg recording\n",
    "signal = import_dataset1(modalities=['ECG']).ecg.to_numpy()\n",
    "\n",
    "# R peaks detection\n",
    "signal, peaks = ecg_peaks(signal, method='pan-tompkins', sfreq=1000)"
   ]
  },
  {
   "cell_type": "markdown",
   "id": "3185cb40",
   "metadata": {},
   "source": [
    "## Heart rate variability"
   ]
  },
  {
   "cell_type": "markdown",
   "id": "e6206310",
   "metadata": {},
   "source": [
    "### Time domain"
   ]
  },
  {
   "cell_type": "markdown",
   "id": "25842adc",
   "metadata": {},
   "source": [
    "The `time_domain()`, `frequency_domain()` and `nonlinear()` functions will return a dataframe in the long format. Here, we use the pivolt method to convert it in the wide format for readability."
   ]
  },
  {
   "cell_type": "code",
   "execution_count": 3,
   "id": "65119080",
   "metadata": {},
   "outputs": [
    {
     "data": {
      "text/html": [
       "<div>\n",
       "<style scoped>\n",
       "    .dataframe tbody tr th:only-of-type {\n",
       "        vertical-align: middle;\n",
       "    }\n",
       "\n",
       "    .dataframe tbody tr th {\n",
       "        vertical-align: top;\n",
       "    }\n",
       "\n",
       "    .dataframe thead th {\n",
       "        text-align: right;\n",
       "    }\n",
       "</style>\n",
       "<table border=\"1\" class=\"dataframe\">\n",
       "  <thead>\n",
       "    <tr style=\"text-align: right;\">\n",
       "      <th>Metric</th>\n",
       "      <th>MaxBPM</th>\n",
       "      <th>MaxRR</th>\n",
       "      <th>MeanBPM</th>\n",
       "      <th>MeanRR</th>\n",
       "      <th>MedianBPM</th>\n",
       "      <th>MedianRR</th>\n",
       "      <th>MinBPM</th>\n",
       "      <th>MinRR</th>\n",
       "      <th>RMSSD</th>\n",
       "      <th>SDNN</th>\n",
       "      <th>nn50</th>\n",
       "      <th>pnn50</th>\n",
       "    </tr>\n",
       "  </thead>\n",
       "  <tbody>\n",
       "    <tr>\n",
       "      <th>Values</th>\n",
       "      <td>126.05</td>\n",
       "      <td>1041.0</td>\n",
       "      <td>75.97</td>\n",
       "      <td>793.0</td>\n",
       "      <td>75.09</td>\n",
       "      <td>799.0</td>\n",
       "      <td>57.64</td>\n",
       "      <td>476.0</td>\n",
       "      <td>27.02</td>\n",
       "      <td>52.1</td>\n",
       "      <td>85.0</td>\n",
       "      <td>4.39</td>\n",
       "    </tr>\n",
       "  </tbody>\n",
       "</table>\n",
       "</div>"
      ],
      "text/plain": [
       "Metric  MaxBPM   MaxRR  MeanBPM  MeanRR  MedianBPM  MedianRR  MinBPM  MinRR  \\\n",
       "Values  126.05  1041.0    75.97   793.0      75.09     799.0   57.64  476.0   \n",
       "\n",
       "Metric  RMSSD  SDNN  nn50  pnn50  \n",
       "Values  27.02  52.1  85.0   4.39  "
      ]
     },
     "execution_count": 3,
     "metadata": {},
     "output_type": "execute_result"
    }
   ],
   "source": [
    "# Extract time domain heart rate variability\n",
    "hrv_df = time_domain(peaks, input_type='peaks')\n",
    "\n",
    "# Pivot the dataframe so it render nicely in notebook\n",
    "pd.pivot_table(hrv_df, values='Values', columns='Metric')"
   ]
  },
  {
   "cell_type": "markdown",
   "id": "84660ba8",
   "metadata": {},
   "source": [
    "### Frequency domain"
   ]
  },
  {
   "cell_type": "code",
   "execution_count": 4,
   "id": "e1061127",
   "metadata": {},
   "outputs": [
    {
     "data": {
      "text/html": [
       "<div>\n",
       "<style scoped>\n",
       "    .dataframe tbody tr th:only-of-type {\n",
       "        vertical-align: middle;\n",
       "    }\n",
       "\n",
       "    .dataframe tbody tr th {\n",
       "        vertical-align: top;\n",
       "    }\n",
       "\n",
       "    .dataframe thead th {\n",
       "        text-align: right;\n",
       "    }\n",
       "</style>\n",
       "<table border=\"1\" class=\"dataframe\">\n",
       "  <thead>\n",
       "    <tr style=\"text-align: right;\">\n",
       "      <th>Metric</th>\n",
       "      <th>hf_peak</th>\n",
       "      <th>hf_power</th>\n",
       "      <th>lf_peak</th>\n",
       "      <th>lf_power</th>\n",
       "      <th>power_hf_nu</th>\n",
       "      <th>power_hf_per</th>\n",
       "      <th>power_lf_nu</th>\n",
       "      <th>power_lf_per</th>\n",
       "      <th>power_vlf_per</th>\n",
       "      <th>vlf_peak</th>\n",
       "      <th>vlf_power</th>\n",
       "    </tr>\n",
       "  </thead>\n",
       "  <tbody>\n",
       "    <tr>\n",
       "      <th>Values</th>\n",
       "      <td>0.3555</td>\n",
       "      <td>249.940941</td>\n",
       "      <td>0.0938</td>\n",
       "      <td>472.33325</td>\n",
       "      <td>0.653953</td>\n",
       "      <td>11.559663</td>\n",
       "      <td>0.346047</td>\n",
       "      <td>21.845213</td>\n",
       "      <td>66.595125</td>\n",
       "      <td>0.0078</td>\n",
       "      <td>1439.907797</td>\n",
       "    </tr>\n",
       "  </tbody>\n",
       "</table>\n",
       "</div>"
      ],
      "text/plain": [
       "Metric  hf_peak    hf_power  lf_peak   lf_power  power_hf_nu  power_hf_per  \\\n",
       "Values   0.3555  249.940941   0.0938  472.33325     0.653953     11.559663   \n",
       "\n",
       "Metric  power_lf_nu  power_lf_per  power_vlf_per  vlf_peak    vlf_power  \n",
       "Values     0.346047     21.845213      66.595125    0.0078  1439.907797  "
      ]
     },
     "execution_count": 4,
     "metadata": {},
     "output_type": "execute_result"
    }
   ],
   "source": [
    "# Extract time domain heart rate variability\n",
    "hrv_df = frequency_domain(peaks, input_type='peaks')\n",
    "\n",
    "# Pivot the dataframe so it render nicely in notebook\n",
    "pd.pivot_table(hrv_df, values='Values', columns='Metric')"
   ]
  },
  {
   "cell_type": "code",
   "execution_count": 5,
   "id": "c492796d",
   "metadata": {},
   "outputs": [
    {
     "data": {
      "text/html": [
       "\n",
       "\n",
       "\n",
       "\n",
       "\n",
       "\n",
       "  <div class=\"bk-root\" id=\"1efdf189-b6e0-4e13-ad25-02791ea386bd\" data-root-id=\"1003\"></div>\n"
      ]
     },
     "metadata": {},
     "output_type": "display_data"
    },
    {
     "data": {
      "application/javascript": [
       "(function(root) {\n",
       "  function embed_document(root) {\n",
       "    \n",
       "  var docs_json = {\"497265dc-440b-4c6b-b813-3f2a906a7bd2\":{\"defs\":[],\"roots\":{\"references\":[{\"attributes\":{\"below\":[{\"id\":\"1014\"}],\"center\":[{\"id\":\"1017\"},{\"id\":\"1021\"}],\"height\":500,\"left\":[{\"id\":\"1018\"}],\"output_backend\":\"webgl\",\"renderers\":[{\"id\":\"1039\"},{\"id\":\"1044\"},{\"id\":\"1049\"},{\"id\":\"1054\"},{\"id\":\"1059\"},{\"id\":\"1064\"}],\"title\":{\"id\":\"1004\"},\"toolbar\":{\"id\":\"1029\"},\"width\":1000,\"x_range\":{\"id\":\"1006\"},\"x_scale\":{\"id\":\"1010\"},\"y_range\":{\"id\":\"1008\"},\"y_scale\":{\"id\":\"1012\"}},\"id\":\"1003\",\"subtype\":\"Figure\",\"type\":\"Plot\"},{\"attributes\":{},\"id\":\"1078\",\"type\":\"Selection\"},{\"attributes\":{\"axis_label\":\"Frequency (Hz)\",\"formatter\":{\"id\":\"1067\"},\"major_label_policy\":{\"id\":\"1069\"},\"ticker\":{\"id\":\"1015\"}},\"id\":\"1014\",\"type\":\"LinearAxis\"},{\"attributes\":{\"data_source\":{\"id\":\"1036\"},\"glyph\":{\"id\":\"1037\"},\"hover_glyph\":null,\"muted_glyph\":null,\"nonselection_glyph\":{\"id\":\"1038\"},\"view\":{\"id\":\"1040\"}},\"id\":\"1039\",\"type\":\"GlyphRenderer\"},{\"attributes\":{},\"id\":\"1069\",\"type\":\"AllLabels\"},{\"attributes\":{\"fill_alpha\":0.1,\"fill_color\":\"#c44e52\",\"x\":{\"field\":\"x\"},\"y1\":{\"value\":0},\"y2\":{\"field\":\"y2\"}},\"id\":\"1063\",\"type\":\"VArea\"},{\"attributes\":{\"axis\":{\"id\":\"1018\"},\"dimension\":1,\"ticker\":null},\"id\":\"1021\",\"type\":\"Grid\"},{\"attributes\":{},\"id\":\"1015\",\"type\":\"BasicTicker\"},{\"attributes\":{\"line_alpha\":0.1,\"line_color\":\"grey\",\"x\":{\"field\":\"x\"},\"y\":{\"field\":\"y\"}},\"id\":\"1038\",\"type\":\"Line\"},{\"attributes\":{},\"id\":\"1022\",\"type\":\"PanTool\"},{\"attributes\":{},\"id\":\"1026\",\"type\":\"ResetTool\"},{\"attributes\":{},\"id\":\"1019\",\"type\":\"BasicTicker\"},{\"attributes\":{},\"id\":\"1077\",\"type\":\"UnionRenderers\"},{\"attributes\":{\"line_alpha\":0.1,\"line_color\":\"grey\",\"x\":{\"field\":\"x\"},\"y\":{\"field\":\"y\"}},\"id\":\"1058\",\"type\":\"Line\"},{\"attributes\":{},\"id\":\"1023\",\"type\":\"WheelZoomTool\"},{\"attributes\":{},\"id\":\"1080\",\"type\":\"Selection\"},{\"attributes\":{\"text\":\"Power spectral density\"},\"id\":\"1004\",\"type\":\"Title\"},{\"attributes\":{\"overlay\":{\"id\":\"1028\"}},\"id\":\"1024\",\"type\":\"BoxZoomTool\"},{\"attributes\":{},\"id\":\"1079\",\"type\":\"UnionRenderers\"},{\"attributes\":{},\"id\":\"1025\",\"type\":\"SaveTool\"},{\"attributes\":{\"line_alpha\":0.1,\"line_color\":\"grey\",\"x\":{\"field\":\"x\"},\"y\":{\"field\":\"y\"}},\"id\":\"1048\",\"type\":\"Line\"},{\"attributes\":{},\"id\":\"1082\",\"type\":\"Selection\"},{\"attributes\":{},\"id\":\"1012\",\"type\":\"LinearScale\"},{\"attributes\":{\"source\":{\"id\":\"1036\"}},\"id\":\"1040\",\"type\":\"CDSView\"},{\"attributes\":{\"source\":{\"id\":\"1056\"}},\"id\":\"1060\",\"type\":\"CDSView\"},{\"attributes\":{},\"id\":\"1081\",\"type\":\"UnionRenderers\"},{\"attributes\":{\"source\":{\"id\":\"1046\"}},\"id\":\"1050\",\"type\":\"CDSView\"},{\"attributes\":{\"data\":{\"x\":{\"__ndarray__\":\"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\",\"dtype\":\"float64\",\"order\":\"little\",\"shape\":[250]},\"y2\":{\"__ndarray__\":\"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\",\"dtype\":\"float64\",\"order\":\"little\",\"shape\":[250]}},\"selected\":{\"id\":\"1084\"},\"selection_policy\":{\"id\":\"1083\"}},\"id\":\"1061\",\"type\":\"ColumnDataSource\"},{\"attributes\":{},\"id\":\"1027\",\"type\":\"HelpTool\"},{\"attributes\":{},\"id\":\"1067\",\"type\":\"BasicTickFormatter\"},{\"attributes\":{\"data\":{\"x\":{\"__ndarray__\":\"+n5qvHSTaD/8qfHSTWJwP3sUrkfhenQ/+n5qvHSTeD956SYxCKx8P/yp8dJNYoA/PN9PjZdugj97FK5H4XqEP7pJDAIrh4Y/+n5qvHSTiD86tMh2vp+KP3jpJjEIrIw/uB6F61G4jj/8qfHSTWKQP5zEILByaJE/O99PjZdukj/b+X5qvHSTP3sUrkfhepQ/Gy/dJAaBlT+6SQwCK4eWP1pkO99PjZc/+n5qvHSTmD+ZmZmZmZmZPzm0yHa+n5o/2c73U+Olmz956SYxCKycPxkEVg4tsp0/uB6F61G4nj9YObTIdr6fP/yp8dJNYqA/TDeJQWDloD+cxCCwcmihP+xRuB6F66E/PN9PjZduoj+MbOf7qfGiP9z5fmq8dKM/LIcW2c73oz97FK5H4XqkPw==\",\"dtype\":\"float64\",\"order\":\"little\",\"shape\":[38]},\"y2\":{\"__ndarray__\":\"zEoia2WOrj94gpx0jmWxP4XVJDpP2LI/WfNMkYKjsz/BsDcFNsuzP/6fOjd9U7M/S2Pur11Gsj+6Ru31mbuwPyag963Hma0/pZEScHkoqT+3VTGGmI+kPypZ/DXan6A/gtNA/6honD8cibu6PEecP0KYorOleKA/uMJDd8AjpD/mEYPNcwCoP6LPDH+o8Ko/ujux40SBrD/gF2T2s/isP5xeU7Otpqw/S8geDUDXqz/4VGe3l5aqP3zHa/ueuqg/rMXix4YXpj8hkHMSNYyiP4AfLj238Zw/vOnSCuEmlT/+rdhFz02OP5d9GU73YYg/bodRVFrIhz8Q5eK+khKKP+L77FOwzow/7t/ZG/LWjT+yBICbye+MP1WgG1vHn4o/mUaxvvdthz/B7Cl23OSDPw==\",\"dtype\":\"float64\",\"order\":\"little\",\"shape\":[38]}},\"selected\":{\"id\":\"1076\"},\"selection_policy\":{\"id\":\"1075\"}},\"id\":\"1041\",\"type\":\"ColumnDataSource\"},{\"attributes\":{},\"id\":\"1070\",\"type\":\"BasicTickFormatter\"},{\"attributes\":{},\"id\":\"1084\",\"type\":\"Selection\"},{\"attributes\":{\"data_source\":{\"id\":\"1056\"},\"glyph\":{\"id\":\"1057\"},\"hover_glyph\":null,\"muted_glyph\":null,\"nonselection_glyph\":{\"id\":\"1058\"},\"view\":{\"id\":\"1060\"}},\"id\":\"1059\",\"type\":\"GlyphRenderer\"},{\"attributes\":{},\"id\":\"1083\",\"type\":\"UnionRenderers\"},{\"attributes\":{\"line_color\":\"grey\",\"x\":{\"field\":\"x\"},\"y\":{\"field\":\"y\"}},\"id\":\"1037\",\"type\":\"Line\"},{\"attributes\":{\"source\":{\"id\":\"1041\"}},\"id\":\"1045\",\"type\":\"CDSView\"},{\"attributes\":{\"fill_alpha\":0.1,\"fill_color\":\"#4c72b0\",\"x\":{\"field\":\"x\"},\"y1\":{\"value\":0},\"y2\":{\"field\":\"y2\"}},\"id\":\"1043\",\"type\":\"VArea\"},{\"attributes\":{\"data\":{\"x\":{\"__ndarray__\":\"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\",\"dtype\":\"float64\",\"order\":\"little\",\"shape\":[250]},\"y\":{\"__ndarray__\":\"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\",\"dtype\":\"float64\",\"order\":\"little\",\"shape\":[250]}},\"selected\":{\"id\":\"1082\"},\"selection_policy\":{\"id\":\"1081\"}},\"id\":\"1056\",\"type\":\"ColumnDataSource\"},{\"attributes\":{\"data\":{\"x\":{\"__ndarray__\":\"exSuR+F6pD/LoUW28/2kPxsv3SQGgaU/a7x0kxgEpj+7SQwCK4emPwvXo3A9Cqc/W2Q730+Npz+q8dJNYhCoP/p+arx0k6g/SgwCK4cWqT+amZmZmZmpP+omMQisHKo/OrTIdr6fqj+KQWDl0CKrP9rO91Pjpas/KlyPwvUorD956SYxCKysP8l2vp8aL60/GQRWDi2yrT9pke18PzWuP7kehetRuK4/CawcWmQ7rz9ZObTIdr6vP1TjpZvEILA//Knx0k1isD+kcD0K16OwP0w3iUFg5bA/9P3UeOkmsT+cxCCwcmixP0SLbOf7qbE/7FG4HoXrsT+UGARWDi2yPzzfT42XbrI/5KWbxCCwsj+MbOf7qfGyPzQzMzMzM7M/2/l+arx0sz+DwMqhRbazPyuHFtnO97M/001iEFg5tD97FK5H4Xq0PyPb+X5qvLQ/y6FFtvP9tD9zaJHtfD+1Pxsv3SQGgbU/w/UoXI/CtT9rvHSTGAS2PxODwMqhRbY/u0kMAiuHtj9jEFg5tMi2PwvXo3A9Crc/sp3vp8ZLtz9aZDvfT423PwIrhxbZzrc/qvHSTWIQuD9SuB6F61G4P/p+arx0k7g/okW28/3UuD9KDAIrhxa5P/LSTWIQWLk/mpmZmZmZuT9CYOXQItu5P+omMQisHLo/ku18PzVeuj86tMh2vp+6P+J6FK5H4bo/ikFg5dAiuz8yCKwcWmS7P9nO91Pjpbs/gZVDi2znuz8pXI/C9Si8P9Ei2/l+arw/eekmMQisvD8hsHJoke28P8l2vp8aL70/cT0K16NwvT8ZBFYOLbK9P8HKoUW2870/aZHtfD81vj8RWDm0yHa+P7kehetRuL4/YeXQItv5vj8JrBxaZDu/P7ByaJHtfL8/WDm0yHa+vz8AAAAAAADAP1TjpZvEIMA/qMZLN4lBwD/8qfHSTWLAP1CNl24Sg8A/pHA9CtejwD/4U+Olm8TAP0w3iUFg5cA/oBov3SQGwT/0/dR46SbBP0jhehSuR8E/nMQgsHJowT/wp8ZLN4nBP0SLbOf7qcE/mG4Sg8DKwT/sUbgehevBP0A1XrpJDMI/lBgEVg4twj/o+6nx0k3CPzzfT42XbsI/kML1KFyPwj/kpZvEILDCPziJQWDl0MI/i2zn+6nxwj/fT42XbhLDPzMzMzMzM8M/\",\"dtype\":\"float64\",\"order\":\"little\",\"shape\":[111]},\"y2\":{\"__ndarray__\":\"wewpdtzkgz9iM318qJ+AP6O0efUsfXw/jHQEusHDej/TedX0BMd8P0WN13GWnYA/Am6mOPovgz9q94LQojqFPzzIhpM1IIY/3wjKoJb7hT8LH64TNweFP4Or3/6OfYM/WNu5Ta+dgT/Lm2BjyWB/Pz40iWBy/3s/cM0PtWOqeT+6gS9v2qt4P0ujcgnC1ng/CxdhlvbyeT/RHO/8xsZ7PwDMCmNd3n0/jrNBVJd7fz/vpo1mett/P7XnAP7ERH4/c5vfAtDdej/Ty5/hjqx2P4nwz9StwHI/IDKA+k0acD+WBuIiRJZtPzxGKV+NVGw/Wt9vvrsTaz/0SpDhwZhoPz8BrM8lCWU/Rz0zboxhYT9APX6/WENdP7nVuxHyXFs/f6OJ4H41XT9uRi0KDBZhP+x2zuRUz2Q/p5qINiRxaT+ab1ykMoxuP4qyCDnw03E/xH1WS8UldD9pv2ziEQd2P1JCW4mLZXc/I9Hu8E04eD/bCuP0dnZ4P71oN/9sP3g/WKNHtUU4eD/Av9q/yCF5P6s5dPNmvHs/7OrVmT0ggD9gFleWXceCP45BqQk6KYU/Pm3amhWchj/WNrfp9L+GP1XgGC8cxIU/HqD4+ETogz+vHhnxUWyBPyvOftwxMn0/DUAqlduJdz+k4P/PhI5yP0PkYd231m0/d9dtGLCtaT8feMSGDvxnPxP88ssrDGg/sFcmUZsoaT+yY5zKhKBqP5E0s2pIx2s/g8Frw27waz9ulcq29YBqP7B19oneymc/yYceQ/rKZD++Vo1H34FiPzUzKGPv02E/G65GQ66UYj9iTTVpnP5jP+7uz7SJSmU/+Rwb4+LGZT8oRFrRjVtlPwIr0uTZMmQ/x9TEgVp3Yj8MYkanGlpgP7WroD3uXFw/4E9Rt0emWD9IrJVMrU1WPx5wWnQi31U/wxhjPQohVz8k12icX6hZP4JM98MXCl0/pzGlUcNbYD/wmxlTFtthP/70gEqce2I/XJ73pFi2YT/VPQ0dp9tePwW3XdLa8Fg/UCIg37qdUz/6UAuOedBQPxxcZnphUlE/k2UWhWbiUz820xl6fglXP5ySzqh3VVk/lyyWB58vWj9CMLgZ0jFaP2rjUoBdDFo/LKHFjG5qWj9hfI7CHG5bP9VhwzXEpFw/h+TvGEyUXT96vu84oMddP8F/UngnIV0/\",\"dtype\":\"float64\",\"order\":\"little\",\"shape\":[111]}},\"selected\":{\"id\":\"1080\"},\"selection_policy\":{\"id\":\"1079\"}},\"id\":\"1051\",\"type\":\"ColumnDataSource\"},{\"attributes\":{\"data_source\":{\"id\":\"1041\"},\"glyph\":{\"id\":\"1042\"},\"hover_glyph\":null,\"muted_glyph\":null,\"nonselection_glyph\":{\"id\":\"1043\"},\"view\":{\"id\":\"1045\"}},\"id\":\"1044\",\"type\":\"GlyphRenderer\"},{\"attributes\":{\"fill_alpha\":0.2,\"fill_color\":\"#4c72b0\",\"x\":{\"field\":\"x\"},\"y1\":{\"value\":0},\"y2\":{\"field\":\"y2\"}},\"id\":\"1042\",\"type\":\"VArea\"},{\"attributes\":{\"source\":{\"id\":\"1061\"}},\"id\":\"1065\",\"type\":\"CDSView\"},{\"attributes\":{\"data_source\":{\"id\":\"1061\"},\"glyph\":{\"id\":\"1062\"},\"hover_glyph\":null,\"muted_glyph\":null,\"nonselection_glyph\":{\"id\":\"1063\"},\"view\":{\"id\":\"1065\"}},\"id\":\"1064\",\"type\":\"GlyphRenderer\"},{\"attributes\":{\"data_source\":{\"id\":\"1051\"},\"glyph\":{\"id\":\"1052\"},\"hover_glyph\":null,\"muted_glyph\":null,\"nonselection_glyph\":{\"id\":\"1053\"},\"view\":{\"id\":\"1055\"}},\"id\":\"1054\",\"type\":\"GlyphRenderer\"},{\"attributes\":{\"bottom_units\":\"screen\",\"fill_alpha\":0.5,\"fill_color\":\"lightgrey\",\"left_units\":\"screen\",\"level\":\"overlay\",\"line_alpha\":1.0,\"line_color\":\"black\",\"line_dash\":[4,4],\"line_width\":2,\"right_units\":\"screen\",\"syncable\":false,\"top_units\":\"screen\"},\"id\":\"1028\",\"type\":\"BoxAnnotation\"},{\"attributes\":{},\"id\":\"1076\",\"type\":\"Selection\"},{\"attributes\":{\"axis_label\":\"PSD [s\\u00b2/Hz]\",\"formatter\":{\"id\":\"1070\"},\"major_label_policy\":{\"id\":\"1072\"},\"ticker\":{\"id\":\"1019\"}},\"id\":\"1018\",\"type\":\"LinearAxis\"},{\"attributes\":{},\"id\":\"1008\",\"type\":\"DataRange1d\"},{\"attributes\":{\"data\":{\"x\":{\"__ndarray__\":\"exSuR+F6pD/LoUW28/2kPxsv3SQGgaU/a7x0kxgEpj+7SQwCK4emPwvXo3A9Cqc/W2Q730+Npz+q8dJNYhCoP/p+arx0k6g/SgwCK4cWqT+amZmZmZmpP+omMQisHKo/OrTIdr6fqj+KQWDl0CKrP9rO91Pjpas/KlyPwvUorD956SYxCKysP8l2vp8aL60/GQRWDi2yrT9pke18PzWuP7kehetRuK4/CawcWmQ7rz9ZObTIdr6vP1TjpZvEILA//Knx0k1isD+kcD0K16OwP0w3iUFg5bA/9P3UeOkmsT+cxCCwcmixP0SLbOf7qbE/7FG4HoXrsT+UGARWDi2yPzzfT42XbrI/5KWbxCCwsj+MbOf7qfGyPzQzMzMzM7M/2/l+arx0sz+DwMqhRbazPyuHFtnO97M/001iEFg5tD97FK5H4Xq0PyPb+X5qvLQ/y6FFtvP9tD9zaJHtfD+1Pxsv3SQGgbU/w/UoXI/CtT9rvHSTGAS2PxODwMqhRbY/u0kMAiuHtj9jEFg5tMi2PwvXo3A9Crc/sp3vp8ZLtz9aZDvfT423PwIrhxbZzrc/qvHSTWIQuD9SuB6F61G4P/p+arx0k7g/okW28/3UuD9KDAIrhxa5P/LSTWIQWLk/mpmZmZmZuT9CYOXQItu5P+omMQisHLo/ku18PzVeuj86tMh2vp+6P+J6FK5H4bo/ikFg5dAiuz8yCKwcWmS7P9nO91Pjpbs/gZVDi2znuz8pXI/C9Si8P9Ei2/l+arw/eekmMQisvD8hsHJoke28P8l2vp8aL70/cT0K16NwvT8ZBFYOLbK9P8HKoUW2870/aZHtfD81vj8RWDm0yHa+P7kehetRuL4/YeXQItv5vj8JrBxaZDu/P7ByaJHtfL8/WDm0yHa+vz8AAAAAAADAP1TjpZvEIMA/qMZLN4lBwD/8qfHSTWLAP1CNl24Sg8A/pHA9CtejwD/4U+Olm8TAP0w3iUFg5cA/oBov3SQGwT/0/dR46SbBP0jhehSuR8E/nMQgsHJowT/wp8ZLN4nBP0SLbOf7qcE/mG4Sg8DKwT/sUbgehevBP0A1XrpJDMI/lBgEVg4twj/o+6nx0k3CPzzfT42XbsI/kML1KFyPwj/kpZvEILDCPziJQWDl0MI/i2zn+6nxwj/fT42XbhLDPzMzMzMzM8M/\",\"dtype\":\"float64\",\"order\":\"little\",\"shape\":[111]},\"y\":{\"__ndarray__\":\"wewpdtzkgz9iM318qJ+AP6O0efUsfXw/jHQEusHDej/TedX0BMd8P0WN13GWnYA/Am6mOPovgz9q94LQojqFPzzIhpM1IIY/3wjKoJb7hT8LH64TNweFP4Or3/6OfYM/WNu5Ta+dgT/Lm2BjyWB/Pz40iWBy/3s/cM0PtWOqeT+6gS9v2qt4P0ujcgnC1ng/CxdhlvbyeT/RHO/8xsZ7PwDMCmNd3n0/jrNBVJd7fz/vpo1mett/P7XnAP7ERH4/c5vfAtDdej/Ty5/hjqx2P4nwz9StwHI/IDKA+k0acD+WBuIiRJZtPzxGKV+NVGw/Wt9vvrsTaz/0SpDhwZhoPz8BrM8lCWU/Rz0zboxhYT9APX6/WENdP7nVuxHyXFs/f6OJ4H41XT9uRi0KDBZhP+x2zuRUz2Q/p5qINiRxaT+ab1ykMoxuP4qyCDnw03E/xH1WS8UldD9pv2ziEQd2P1JCW4mLZXc/I9Hu8E04eD/bCuP0dnZ4P71oN/9sP3g/WKNHtUU4eD/Av9q/yCF5P6s5dPNmvHs/7OrVmT0ggD9gFleWXceCP45BqQk6KYU/Pm3amhWchj/WNrfp9L+GP1XgGC8cxIU/HqD4+ETogz+vHhnxUWyBPyvOftwxMn0/DUAqlduJdz+k4P/PhI5yP0PkYd231m0/d9dtGLCtaT8feMSGDvxnPxP88ssrDGg/sFcmUZsoaT+yY5zKhKBqP5E0s2pIx2s/g8Frw27waz9ulcq29YBqP7B19oneymc/yYceQ/rKZD++Vo1H34FiPzUzKGPv02E/G65GQ66UYj9iTTVpnP5jP+7uz7SJSmU/+Rwb4+LGZT8oRFrRjVtlPwIr0uTZMmQ/x9TEgVp3Yj8MYkanGlpgP7WroD3uXFw/4E9Rt0emWD9IrJVMrU1WPx5wWnQi31U/wxhjPQohVz8k12icX6hZP4JM98MXCl0/pzGlUcNbYD/wmxlTFtthP/70gEqce2I/XJ73pFi2YT/VPQ0dp9tePwW3XdLa8Fg/UCIg37qdUz/6UAuOedBQPxxcZnphUlE/k2UWhWbiUz820xl6fglXP5ySzqh3VVk/lyyWB58vWj9CMLgZ0jFaP2rjUoBdDFo/LKHFjG5qWj9hfI7CHG5bP9VhwzXEpFw/h+TvGEyUXT96vu84oMddP8F/UngnIV0/\",\"dtype\":\"float64\",\"order\":\"little\",\"shape\":[111]}},\"selected\":{\"id\":\"1078\"},\"selection_policy\":{\"id\":\"1077\"}},\"id\":\"1046\",\"type\":\"ColumnDataSource\"},{\"attributes\":{\"source\":{\"id\":\"1051\"}},\"id\":\"1055\",\"type\":\"CDSView\"},{\"attributes\":{\"data_source\":{\"id\":\"1046\"},\"glyph\":{\"id\":\"1047\"},\"hover_glyph\":null,\"muted_glyph\":null,\"nonselection_glyph\":{\"id\":\"1048\"},\"view\":{\"id\":\"1050\"}},\"id\":\"1049\",\"type\":\"GlyphRenderer\"},{\"attributes\":{\"active_multi\":null,\"tools\":[{\"id\":\"1022\"},{\"id\":\"1023\"},{\"id\":\"1024\"},{\"id\":\"1025\"},{\"id\":\"1026\"},{\"id\":\"1027\"}]},\"id\":\"1029\",\"type\":\"Toolbar\"},{\"attributes\":{},\"id\":\"1073\",\"type\":\"UnionRenderers\"},{\"attributes\":{\"axis\":{\"id\":\"1014\"},\"ticker\":null},\"id\":\"1017\",\"type\":\"Grid\"},{\"attributes\":{\"data\":{\"x\":{\"__ndarray__\":\"+n5qvHSTaD/8qfHSTWJwP3sUrkfhenQ/+n5qvHSTeD956SYxCKx8P/yp8dJNYoA/PN9PjZdugj97FK5H4XqEP7pJDAIrh4Y/+n5qvHSTiD86tMh2vp+KP3jpJjEIrIw/uB6F61G4jj/8qfHSTWKQP5zEILByaJE/O99PjZdukj/b+X5qvHSTP3sUrkfhepQ/Gy/dJAaBlT+6SQwCK4eWP1pkO99PjZc/+n5qvHSTmD+ZmZmZmZmZPzm0yHa+n5o/2c73U+Olmz956SYxCKycPxkEVg4tsp0/uB6F61G4nj9YObTIdr6fP/yp8dJNYqA/TDeJQWDloD+cxCCwcmihP+xRuB6F66E/PN9PjZduoj+MbOf7qfGiP9z5fmq8dKM/LIcW2c73oz97FK5H4XqkPw==\",\"dtype\":\"float64\",\"order\":\"little\",\"shape\":[38]},\"y\":{\"__ndarray__\":\"zEoia2WOrj94gpx0jmWxP4XVJDpP2LI/WfNMkYKjsz/BsDcFNsuzP/6fOjd9U7M/S2Pur11Gsj+6Ru31mbuwPyag963Hma0/pZEScHkoqT+3VTGGmI+kPypZ/DXan6A/gtNA/6honD8cibu6PEecP0KYorOleKA/uMJDd8AjpD/mEYPNcwCoP6LPDH+o8Ko/ujux40SBrD/gF2T2s/isP5xeU7Otpqw/S8geDUDXqz/4VGe3l5aqP3zHa/ueuqg/rMXix4YXpj8hkHMSNYyiP4AfLj238Zw/vOnSCuEmlT/+rdhFz02OP5d9GU73YYg/bodRVFrIhz8Q5eK+khKKP+L77FOwzow/7t/ZG/LWjT+yBICbye+MP1WgG1vHn4o/mUaxvvdthz/B7Cl23OSDPw==\",\"dtype\":\"float64\",\"order\":\"little\",\"shape\":[38]}},\"selected\":{\"id\":\"1074\"},\"selection_policy\":{\"id\":\"1073\"}},\"id\":\"1036\",\"type\":\"ColumnDataSource\"},{\"attributes\":{\"fill_alpha\":0.1,\"fill_color\":\"#55a868\",\"x\":{\"field\":\"x\"},\"y1\":{\"value\":0},\"y2\":{\"field\":\"y2\"}},\"id\":\"1053\",\"type\":\"VArea\"},{\"attributes\":{\"fill_alpha\":0.2,\"fill_color\":\"#c44e52\",\"x\":{\"field\":\"x\"},\"y1\":{\"value\":0},\"y2\":{\"field\":\"y2\"}},\"id\":\"1062\",\"type\":\"VArea\"},{\"attributes\":{},\"id\":\"1072\",\"type\":\"AllLabels\"},{\"attributes\":{},\"id\":\"1006\",\"type\":\"DataRange1d\"},{\"attributes\":{\"fill_alpha\":0.2,\"fill_color\":\"#55a868\",\"x\":{\"field\":\"x\"},\"y1\":{\"value\":0},\"y2\":{\"field\":\"y2\"}},\"id\":\"1052\",\"type\":\"VArea\"},{\"attributes\":{\"line_color\":\"grey\",\"x\":{\"field\":\"x\"},\"y\":{\"field\":\"y\"}},\"id\":\"1057\",\"type\":\"Line\"},{\"attributes\":{},\"id\":\"1074\",\"type\":\"Selection\"},{\"attributes\":{},\"id\":\"1075\",\"type\":\"UnionRenderers\"},{\"attributes\":{\"line_color\":\"grey\",\"x\":{\"field\":\"x\"},\"y\":{\"field\":\"y\"}},\"id\":\"1047\",\"type\":\"Line\"},{\"attributes\":{},\"id\":\"1010\",\"type\":\"LinearScale\"}],\"root_ids\":[\"1003\"]},\"title\":\"Bokeh Application\",\"version\":\"2.3.3\"}};\n",
       "  var render_items = [{\"docid\":\"497265dc-440b-4c6b-b813-3f2a906a7bd2\",\"root_ids\":[\"1003\"],\"roots\":{\"1003\":\"1efdf189-b6e0-4e13-ad25-02791ea386bd\"}}];\n",
       "  root.Bokeh.embed.embed_items_notebook(docs_json, render_items);\n",
       "\n",
       "  }\n",
       "  if (root.Bokeh !== undefined) {\n",
       "    embed_document(root);\n",
       "  } else {\n",
       "    var attempts = 0;\n",
       "    var timer = setInterval(function(root) {\n",
       "      if (root.Bokeh !== undefined) {\n",
       "        clearInterval(timer);\n",
       "        embed_document(root);\n",
       "      } else {\n",
       "        attempts++;\n",
       "        if (attempts > 100) {\n",
       "          clearInterval(timer);\n",
       "          console.log(\"Bokeh: ERROR: Unable to run BokehJS code because BokehJS library is missing\");\n",
       "        }\n",
       "      }\n",
       "    }, 10, root)\n",
       "  }\n",
       "})(window);"
      ],
      "application/vnd.bokehjs_exec.v0+json": ""
     },
     "metadata": {
      "application/vnd.bokehjs_exec.v0+json": {
       "id": "1003"
      }
     },
     "output_type": "display_data"
    }
   ],
   "source": [
    "show(\n",
    "    plot_frequency(peaks, input_type='peaks', backend='bokeh', figsize=(1000, 500))\n",
    ")"
   ]
  },
  {
   "cell_type": "markdown",
   "id": "d8f9958f",
   "metadata": {},
   "source": [
    "### Non linear domain"
   ]
  },
  {
   "cell_type": "code",
   "execution_count": 6,
   "id": "2b913cc1",
   "metadata": {},
   "outputs": [
    {
     "data": {
      "text/html": [
       "<div>\n",
       "<style scoped>\n",
       "    .dataframe tbody tr th:only-of-type {\n",
       "        vertical-align: middle;\n",
       "    }\n",
       "\n",
       "    .dataframe tbody tr th {\n",
       "        vertical-align: top;\n",
       "    }\n",
       "\n",
       "    .dataframe thead th {\n",
       "        text-align: right;\n",
       "    }\n",
       "</style>\n",
       "<table border=\"1\" class=\"dataframe\">\n",
       "  <thead>\n",
       "    <tr style=\"text-align: right;\">\n",
       "      <th>Metric</th>\n",
       "      <th>SD1</th>\n",
       "      <th>SD2</th>\n",
       "    </tr>\n",
       "  </thead>\n",
       "  <tbody>\n",
       "    <tr>\n",
       "      <th>Values</th>\n",
       "      <td>19.111024</td>\n",
       "      <td>71.158424</td>\n",
       "    </tr>\n",
       "  </tbody>\n",
       "</table>\n",
       "</div>"
      ],
      "text/plain": [
       "Metric        SD1        SD2\n",
       "Values  19.111024  71.158424"
      ]
     },
     "execution_count": 6,
     "metadata": {},
     "output_type": "execute_result"
    }
   ],
   "source": [
    "# Extract time domain heart rate variability\n",
    "hrv_df = nonlinear(peaks, input_type='peaks')\n",
    "\n",
    "# Pivot the dataframe so it render nicely in notebook\n",
    "pd.pivot_table(hrv_df, values='Values', columns='Metric')"
   ]
  },
  {
   "cell_type": "code",
   "execution_count": 7,
   "id": "cd14e2da",
   "metadata": {},
   "outputs": [
    {
     "data": {
      "text/html": [
       "\n",
       "\n",
       "\n",
       "\n",
       "\n",
       "\n",
       "  <div class=\"bk-root\" id=\"893475e1-84a7-48a7-87dd-f05c1a00b4cc\" data-root-id=\"1186\"></div>\n"
      ]
     },
     "metadata": {},
     "output_type": "display_data"
    },
    {
     "data": {
      "application/javascript": [
       "(function(root) {\n",
       "  function embed_document(root) {\n",
       "    \n",
       "  var docs_json = {\"68e3c60b-0931-42c4-8bb6-2c1cb8175a62\":{\"defs\":[],\"roots\":{\"references\":[{\"attributes\":{\"below\":[{\"id\":\"1197\"}],\"center\":[{\"id\":\"1200\"},{\"id\":\"1204\"},{\"id\":\"1240\"},{\"id\":\"1243\"}],\"height\":400,\"left\":[{\"id\":\"1201\"}],\"output_backend\":\"webgl\",\"renderers\":[{\"id\":\"1222\"},{\"id\":\"1227\"},{\"id\":\"1232\"},{\"id\":\"1237\"}],\"title\":{\"id\":\"1187\"},\"toolbar\":{\"id\":\"1212\"},\"width\":400,\"x_range\":{\"id\":\"1189\"},\"x_scale\":{\"id\":\"1193\"},\"y_range\":{\"id\":\"1191\"},\"y_scale\":{\"id\":\"1195\"}},\"id\":\"1186\",\"subtype\":\"Figure\",\"type\":\"Plot\"},{\"attributes\":{\"source\":{\"id\":\"1229\"}},\"id\":\"1233\",\"type\":\"CDSView\"},{\"attributes\":{\"data_source\":{\"id\":\"1224\"},\"glyph\":{\"id\":\"1225\"},\"hover_glyph\":null,\"muted_glyph\":null,\"nonselection_glyph\":{\"id\":\"1226\"},\"view\":{\"id\":\"1228\"}},\"id\":\"1227\",\"type\":\"GlyphRenderer\"},{\"attributes\":{\"fill_alpha\":{\"value\":0.1},\"fill_color\":{\"value\":\"#4c72b0\"},\"line_alpha\":{\"value\":0.1},\"line_color\":{\"value\":\"gray\"},\"size\":{\"value\":2.5},\"x\":{\"field\":\"x\"},\"y\":{\"field\":\"y\"}},\"id\":\"1231\",\"type\":\"Circle\"},{\"attributes\":{},\"id\":\"1275\",\"type\":\"Selection\"},{\"attributes\":{},\"id\":\"1273\",\"type\":\"AllLabels\"},{\"attributes\":{},\"id\":\"1278\",\"type\":\"UnionRenderers\"},{\"attributes\":{\"data_source\":{\"id\":\"1229\"},\"glyph\":{\"id\":\"1230\"},\"hover_glyph\":null,\"muted_glyph\":null,\"nonselection_glyph\":{\"id\":\"1231\"},\"view\":{\"id\":\"1233\"}},\"id\":\"1232\",\"type\":\"GlyphRenderer\"},{\"attributes\":{\"data\":{\"x\":[426,1091],\"y\":[426,1091]},\"selected\":{\"id\":\"1279\"},\"selection_policy\":{\"id\":\"1278\"}},\"id\":\"1219\",\"type\":\"ColumnDataSource\"},{\"attributes\":{\"data\":{},\"selected\":{\"id\":\"1277\"},\"selection_policy\":{\"id\":\"1276\"}},\"id\":\"1267\",\"type\":\"ColumnDataSource\"},{\"attributes\":{\"fill_alpha\":{\"value\":0.1},\"fill_color\":{\"value\":\"#a9373b\"},\"line_alpha\":{\"value\":0.1},\"line_color\":{\"value\":\"#a9373b\"},\"size\":{\"value\":5},\"x\":{\"field\":\"x\"},\"y\":{\"field\":\"y\"}},\"id\":\"1236\",\"type\":\"Circle\"},{\"attributes\":{},\"id\":\"1277\",\"type\":\"Selection\"},{\"attributes\":{},\"id\":\"1284\",\"type\":\"UnionRenderers\"},{\"attributes\":{\"source\":{\"id\":\"1224\"}},\"id\":\"1228\",\"type\":\"CDSView\"},{\"attributes\":{},\"id\":\"1285\",\"type\":\"Selection\"},{\"attributes\":{\"fill_color\":{\"value\":\"green\"},\"size\":{\"value\":10}},\"id\":\"1242\",\"type\":\"NormalHead\"},{\"attributes\":{},\"id\":\"1198\",\"type\":\"BasicTicker\"},{\"attributes\":{\"line_alpha\":0.1,\"line_color\":\"grey\",\"line_dash\":[6],\"x\":{\"field\":\"x\"},\"y\":{\"field\":\"y\"}},\"id\":\"1221\",\"type\":\"Line\"},{\"attributes\":{},\"id\":\"1202\",\"type\":\"BasicTicker\"},{\"attributes\":{\"axis_label\":\"RR (n)\",\"formatter\":{\"id\":\"1268\"},\"major_label_policy\":{\"id\":\"1270\"},\"ticker\":{\"id\":\"1198\"}},\"id\":\"1197\",\"type\":\"LinearAxis\"},{\"attributes\":{},\"id\":\"1276\",\"type\":\"UnionRenderers\"},{\"attributes\":{\"data\":{},\"selected\":{\"id\":\"1275\"},\"selection_policy\":{\"id\":\"1274\"}},\"id\":\"1266\",\"type\":\"ColumnDataSource\"},{\"attributes\":{\"end\":{\"id\":\"1242\"},\"source\":{\"id\":\"1267\"},\"start\":null,\"x_end\":{\"value\":843.6700923510673},\"x_start\":{\"value\":793.353488372093},\"y_end\":{\"value\":843.8333998446074},\"y_start\":{\"value\":793.5167958656331}},\"id\":\"1243\",\"type\":\"Arrow\"},{\"attributes\":{},\"id\":\"1209\",\"type\":\"ResetTool\"},{\"attributes\":{\"data_source\":{\"id\":\"1234\"},\"glyph\":{\"id\":\"1235\"},\"hover_glyph\":null,\"muted_glyph\":null,\"nonselection_glyph\":{\"id\":\"1236\"},\"view\":{\"id\":\"1238\"}},\"id\":\"1237\",\"type\":\"GlyphRenderer\"},{\"attributes\":{\"source\":{\"id\":\"1219\"}},\"id\":\"1223\",\"type\":\"CDSView\"},{\"attributes\":{\"angle\":{\"value\":0.7853981633974483},\"fill_alpha\":{\"value\":0.1},\"fill_color\":{\"value\":\"#a9373b\"},\"height\":{\"value\":38.22204752621471},\"line_alpha\":{\"value\":0.1},\"line_color\":{\"value\":\"gray\"},\"line_dash\":{\"value\":\"dashed\"},\"line_width\":{\"value\":3},\"width\":{\"value\":142.31684751924305},\"x\":{\"value\":793.353488372093},\"y\":{\"value\":793.5167958656331}},\"id\":\"1226\",\"type\":\"Ellipse\"},{\"attributes\":{\"overlay\":{\"id\":\"1211\"}},\"id\":\"1207\",\"type\":\"BoxZoomTool\"},{\"attributes\":{},\"id\":\"1210\",\"type\":\"HelpTool\"},{\"attributes\":{},\"id\":\"1279\",\"type\":\"Selection\"},{\"attributes\":{\"fill_alpha\":{\"value\":0.2},\"fill_color\":{\"value\":\"#4c72b0\"},\"line_alpha\":{\"value\":0.2},\"line_color\":{\"value\":\"gray\"},\"size\":{\"value\":2.5},\"x\":{\"field\":\"x\"},\"y\":{\"field\":\"y\"}},\"id\":\"1230\",\"type\":\"Circle\"},{\"attributes\":{\"axis\":{\"id\":\"1201\"},\"dimension\":1,\"ticker\":null},\"id\":\"1204\",\"type\":\"Grid\"},{\"attributes\":{\"data_source\":{\"id\":\"1219\"},\"glyph\":{\"id\":\"1220\"},\"hover_glyph\":null,\"muted_glyph\":null,\"nonselection_glyph\":{\"id\":\"1221\"},\"view\":{\"id\":\"1223\"}},\"id\":\"1222\",\"type\":\"GlyphRenderer\"},{\"attributes\":{\"data\":{\"x\":[],\"y\":[]},\"selected\":{\"id\":\"1285\"},\"selection_policy\":{\"id\":\"1284\"}},\"id\":\"1234\",\"type\":\"ColumnDataSource\"},{\"attributes\":{\"fill_alpha\":{\"value\":0.8},\"fill_color\":{\"value\":\"#a9373b\"},\"line_alpha\":{\"value\":0.8},\"line_color\":{\"value\":\"#a9373b\"},\"size\":{\"value\":5},\"x\":{\"field\":\"x\"},\"y\":{\"field\":\"y\"}},\"id\":\"1235\",\"type\":\"Circle\"},{\"attributes\":{},\"id\":\"1271\",\"type\":\"BasicTickFormatter\"},{\"attributes\":{},\"id\":\"1274\",\"type\":\"UnionRenderers\"},{\"attributes\":{\"bottom_units\":\"screen\",\"fill_alpha\":0.5,\"fill_color\":\"lightgrey\",\"left_units\":\"screen\",\"level\":\"overlay\",\"line_alpha\":1.0,\"line_color\":\"black\",\"line_dash\":[4,4],\"line_width\":2,\"right_units\":\"screen\",\"syncable\":false,\"top_units\":\"screen\"},\"id\":\"1211\",\"type\":\"BoxAnnotation\"},{\"attributes\":{\"end\":{\"id\":\"1239\"},\"source\":{\"id\":\"1266\"},\"start\":null,\"x_end\":{\"value\":779.8399538737825},\"x_start\":{\"value\":793.353488372093},\"y_end\":{\"value\":807.0303303639436},\"y_start\":{\"value\":793.5167958656331}},\"id\":\"1240\",\"type\":\"Arrow\"},{\"attributes\":{},\"id\":\"1193\",\"type\":\"LinearScale\"},{\"attributes\":{},\"id\":\"1205\",\"type\":\"PanTool\"},{\"attributes\":{\"active_multi\":null,\"tools\":[{\"id\":\"1205\"},{\"id\":\"1206\"},{\"id\":\"1207\"},{\"id\":\"1208\"},{\"id\":\"1209\"},{\"id\":\"1210\"}]},\"id\":\"1212\",\"type\":\"Toolbar\"},{\"attributes\":{},\"id\":\"1270\",\"type\":\"AllLabels\"},{\"attributes\":{\"line_color\":\"grey\",\"line_dash\":[6],\"x\":{\"field\":\"x\"},\"y\":{\"field\":\"y\"}},\"id\":\"1220\",\"type\":\"Line\"},{\"attributes\":{},\"id\":\"1283\",\"type\":\"Selection\"},{\"attributes\":{\"fill_color\":{\"value\":\"blue\"},\"size\":{\"value\":10}},\"id\":\"1239\",\"type\":\"NormalHead\"},{\"attributes\":{},\"id\":\"1268\",\"type\":\"BasicTickFormatter\"},{\"attributes\":{\"end\":1091,\"start\":426},\"id\":\"1189\",\"type\":\"Range1d\"},{\"attributes\":{},\"id\":\"1282\",\"type\":\"UnionRenderers\"},{\"attributes\":{\"data\":{\"x\":[476,739,773,806,797,833,751,800,779,752,766,751,721,733,737,722,716,709,720,724,724,704,717,721,703,720,732,719,742,757,733,738,772,746,762,788,802,790,733,790,786,781,799,807,793,829,852,823,843,816,831,846,834,831,823,794,785,759,796,817,785,793,796,780,775,754,768,763,706,696,702,737,776,753,737,749,705,754,769,763,763,806,810,822,858,842,807,843,843,811,814,850,867,817,787,806,796,797,796,809,835,830,846,848,817,837,830,805,814,805,789,822,835,813,843,817,782,799,802,766,828,809,785,823,826,795,819,835,815,838,853,850,829,811,831,849,849,836,778,750,756,738,720,740,743,709,730,745,720,739,715,685,700,681,659,671,669,642,649,643,638,636,635,643,646,645,639,631,631,626,644,653,656,658,647,645,651,666,668,649,633,667,695,691,687,673,660,661,654,668,714,775,754,767,936,929,888,834,854,807,784,777,752,735,726,705,685,683,678,663,649,649,653,661,651,654,686,695,703,673,673,662,666,666,679,705,721,691,719,719,704,706,731,709,723,705,727,749,734,735,785,767,768,839,858,812,862,883,846,907,855,922,865,839,920,892,888,898,797,813,795,769,751,785,776,742,802,782,763,783,785,763,773,775,747,772,763,780,763,758,780,782,770,756,776,787,766,759,770,765,769,783,782,765,741,753,714,716,735,734,798,800,854,860,830,840,833,824,735,771,754,769,749,731,723,763,791,812,782,721,729,699,679,668,684,729,758,748,727,716,778,885,811,744,709,697,682,713,780,790,745,722,702,719,784,885,944,895,915,913,935,925,903,879,875,869,847,862,878,859,867,856,846,853,817,784,783,798,830,852,860,813,823,817,827,828,828,781,762,787,825,867,849,860,827,796,823,826,785,774,806,802,769,753,781,795,796,776,747,757,755,741,719,731,754,779,739,740,764,809,817,803,750,743,768,804,829,833,861,864,835,840,836,818,795,817,835,827,803,829,840,811,802,788,758,721,719,712,719,709,714,729,747,742,751,774,797,790,783,784,768,750,763,766,746,759,776,785,781,797,800,772,771,764,749,729,741,770,753,756,763,764,735,731,734,730,711,712,723,734,731,741,756,754,742,750,769,760,752,763,776,753,741,748,753,736,730,752,771,755,729,709,691,697,757,806,836,845,827,824,838,783,786,796,792,811,820,786,798,770,701,690,703,709,708,721,732,716,732,737,714,721,725,734,714,725,721,707,698,717,721,703,705,721,730,705,685,682,701,694,702,729,751,725,745,763,758,741,752,766,735,737,760,782,758,778,789,755,754,779,789,761,769,795,798,783,795,816,816,805,828,831,794,826,824,798,812,825,806,794,808,826,798,799,836,816,786,804,797,781,814,829,808,827,853,836,821,841,846,800,813,813,782,793,829,828,796,804,822,811,802,826,828,794,806,804,772,791,808,769,797,831,802,811,832,813,788,809,824,792,777,757,748,841,889,893,864,788,777,762,796,814,842,808,825,843,825,819,859,876,839,853,846,807,824,832,797,816,827,849,855,845,790,808,797,773,762,767,735,735,729,722,728,737,757,735,726,716,698,694,699,680,693,717,741,740,773,793,766,734,755,779,773,783,833,836,809,824,849,829,811,830,829,814,832,824,788,804,803,782,808,838,811,787,812,802,786,812,824,784,782,784,780,771,798,825,804,827,849,818,799,808,814,801,827,851,834,839,834,805,829,828,792,770,776,794,762,770,785,789,767,771,777,752,741,749,739,707,691,697,719,717,706,725,740,729,741,758,765,752,762,794,784,797,829,808,784,791,796,775,787,811,812,801,820,825,795,817,814,780,804,826,839,809,832,838,815,828,842,828,818,830,837,820,850,860,824,820,837,831,804,822,845,840,825,848,830,792,803,808,773,783,814,800,798,817,817,782,796,787,778,777,803,837,788,792,813,820,797,825,857,820,833,851,813,801,823,823,801,825,840,814,820,834,826,792,796,809,775,778,812,809,792,826,836,805,790,804,810,774,783,800,795,776,784,786,759,732,748,746,775,785,748,747,736,708,711,732,737,723,737,767,748,753,777,779,749,760,789,786,765,778,791,769,731,709,711,757,826,860,854,841,841,815,814,821,819,790,811,813,796,826,847,842,820,843,828,812,832,824,799,815,829,794,808,807,781,787,809,811,788,803,813,784,795,800,806,779,785,769,687,693,714,717,680,693,718,733,721,728,731,732,719,715,734,754,743,753,780,795,786,838,838,791,799,813,796,773,792,813,800,791,811,806,779,798,797,759,764,782,774,756,771,800,788,783,815,829,799,812,824,793,782,796,801,770,801,824,808,800,830,820,785,792,793,774,755,764,780,765,786,826,817,803,827,820,778,813,829,783,753,752,755,851,929,945,940,850,849,858,862,827,859,888,873,848,879,886,846,853,853,847,810,834,837,803,802,813,816,777,791,807,788,760,769,788,752,736,747,757,744,765,792,780,764,766,784,786,760,752,769,772,743,729,727,701,681,678,673,674,695,713,730,713,733,755,759,747,771,804,789,785,792,792,767,784,807,817,788,792,801,803,783,794,823,830,791,804,813,795,779,792,801,768,779,775,746,752,759,769,741,745,743,728,717,713,740,740,735,760,798,775,755,750,757,781,782,755,776,797,831,809,835,863,852,844,864,865,841,852,847,832,852,827,817,840,844,811,822,828,792,808,816,802,793,821,821,784,805,818,790,782,808,767,757,784,793,764,756,780,805,827,790,783,790,801,784,804,821,832,807,808,825,844,808,805,836,834,803,820,833,822,808,828,843,816,814,852,837,791,797,809,783,769,765,794,815,810,777,788,800,775,771,801,821,805,804,834,860,814,845,842,800,811,827,790,788,829,825,802,866,866,810,846,872,849,821,838,817,794,831,817,770,785,810,796,807,847,846,797,837,839,777,776,791,782,753,766,808,847,813,840,858,819,823,843,837,807,824,825,799,811,830,809,787,819,809,773,760,762,773,767,745,763,785,759,788,838,841,808,836,861,831,805,810,815,734,735,783,712,717,717,697,742,762,738,705,723,749,756,705,719,734,772,757,792,834,825,801,826,823,785,802,842,830,790,808,832,838,820,859,852,814,832,843,815,849,871,826,835,852,805,803,824,822,778,807,820,782,777,755,793,862,907,897,832,817,824,831,778,782,807,828,805,850,854,811,813,844,842,804,816,816,775,783,812,810,789,823,857,831,793,790,771,729,771,792,770,757,777,794,771,787,808,799,772,793,811,789,784,793,774,750,756,750,739,788,824,782,772,798,801,772,796,825,785,773,821,854,843,838,848,808,793,824,806,771,785,800,784,780,822,827,790,819,829,803,829,847,808,795,824,838,810,791,814,812,790,808,817,781,771,789,774,734,799,814,790,805,851,816,794,825,825,790,797,821,812,798,858,890,840,863,882,842,797,837,844,813,826,868,868,853,897,911,850,878,855,815,846,884,846,849,902,882,827,879,880,825,842,866,813,810,854,868,837,886,913,873,884,917,887,838,850,840,799,838,849,849,829,885,888,837,846,852,827,819,863,885,827,852,877,877,883,935,937,873,906,889,838,842,857,838,825,879,890,853,893,890,844,848,846,798,797,812,808,774,756,737,777,861,867,785,730,744,785,796,778,825,847,804,826,851,821,795,836,856,814,812,845,864,866,828,848,851,860,816,838,823,769,770,789,794,801,830,827,786,831,848,822,823,828,774,755,775,800,774,786,823,836,797,842,847,789,773,765,746,716,705,719,716,732,787,832,831,877,890,839,847,814,771,823,804,780,809,842,835,828,861,881,831,835,830,819,826,851,816,798,815,820,803,831,832,807,827,835,799,792,807,792,778,800,828,834,861,856,818,827,823,799,796,814,819,807,825,847,817,828,839,792,783,793,796,777,796,838,822,836,828,813,829,804,817,823,823,820,839,836,801,819,828,817,848,860,825,842,849,844,827,832,828,821,808,831,845,821,838,842,805,790,784,763,735,716,749,775,793,761,760,781,770,759,780,788,768,772,781,778,749,756,799,818,787,811,817,784,795,805,805,786,801,813,787,788,819,807,769,736,697,767,843,883,888,853,804,818,829,810,830,846,856,827,856,869,850,869,864,833,854,851,825,839,845,848,831,854,839,808,827,844,817,833,850,840,822,833,811,794,808,810,783,786,825,839,831,859,863,829,853,865,841,845,855,870,849,865,888,868,848,864,879,851,857,879,866,837,853,845,789,821,831,832,870,881,837,850,854,785,780,782,791,764,769,753,745,796,1041,917,910,878,797,748,776,825,799,831,856,850,829,869,889,864,846,851,850,809,821,830,800,812,805,807,757,800,801,756,839,842,800,777,808,845,802,780,810,800,756,767,760,733,715,711,712,682,683,701,720,701,750,796,828,797,802,836,808],\"y\":[739,773,806,797,833,751,800,779,752,766,751,721,733,737,722,716,709,720,724,724,704,717,721,703,720,732,719,742,757,733,738,772,746,762,788,802,790,733,790,786,781,799,807,793,829,852,823,843,816,831,846,834,831,823,794,785,759,796,817,785,793,796,780,775,754,768,763,706,696,702,737,776,753,737,749,705,754,769,763,763,806,810,822,858,842,807,843,843,811,814,850,867,817,787,806,796,797,796,809,835,830,846,848,817,837,830,805,814,805,789,822,835,813,843,817,782,799,802,766,828,809,785,823,826,795,819,835,815,838,853,850,829,811,831,849,849,836,778,750,756,738,720,740,743,709,730,745,720,739,715,685,700,681,659,671,669,642,649,643,638,636,635,643,646,645,639,631,631,626,644,653,656,658,647,645,651,666,668,649,633,667,695,691,687,673,660,661,654,668,714,775,754,767,936,929,888,834,854,807,784,777,752,735,726,705,685,683,678,663,649,649,653,661,651,654,686,695,703,673,673,662,666,666,679,705,721,691,719,719,704,706,731,709,723,705,727,749,734,735,785,767,768,839,858,812,862,883,846,907,855,922,865,839,920,892,888,898,797,813,795,769,751,785,776,742,802,782,763,783,785,763,773,775,747,772,763,780,763,758,780,782,770,756,776,787,766,759,770,765,769,783,782,765,741,753,714,716,735,734,798,800,854,860,830,840,833,824,735,771,754,769,749,731,723,763,791,812,782,721,729,699,679,668,684,729,758,748,727,716,778,885,811,744,709,697,682,713,780,790,745,722,702,719,784,885,944,895,915,913,935,925,903,879,875,869,847,862,878,859,867,856,846,853,817,784,783,798,830,852,860,813,823,817,827,828,828,781,762,787,825,867,849,860,827,796,823,826,785,774,806,802,769,753,781,795,796,776,747,757,755,741,719,731,754,779,739,740,764,809,817,803,750,743,768,804,829,833,861,864,835,840,836,818,795,817,835,827,803,829,840,811,802,788,758,721,719,712,719,709,714,729,747,742,751,774,797,790,783,784,768,750,763,766,746,759,776,785,781,797,800,772,771,764,749,729,741,770,753,756,763,764,735,731,734,730,711,712,723,734,731,741,756,754,742,750,769,760,752,763,776,753,741,748,753,736,730,752,771,755,729,709,691,697,757,806,836,845,827,824,838,783,786,796,792,811,820,786,798,770,701,690,703,709,708,721,732,716,732,737,714,721,725,734,714,725,721,707,698,717,721,703,705,721,730,705,685,682,701,694,702,729,751,725,745,763,758,741,752,766,735,737,760,782,758,778,789,755,754,779,789,761,769,795,798,783,795,816,816,805,828,831,794,826,824,798,812,825,806,794,808,826,798,799,836,816,786,804,797,781,814,829,808,827,853,836,821,841,846,800,813,813,782,793,829,828,796,804,822,811,802,826,828,794,806,804,772,791,808,769,797,831,802,811,832,813,788,809,824,792,777,757,748,841,889,893,864,788,777,762,796,814,842,808,825,843,825,819,859,876,839,853,846,807,824,832,797,816,827,849,855,845,790,808,797,773,762,767,735,735,729,722,728,737,757,735,726,716,698,694,699,680,693,717,741,740,773,793,766,734,755,779,773,783,833,836,809,824,849,829,811,830,829,814,832,824,788,804,803,782,808,838,811,787,812,802,786,812,824,784,782,784,780,771,798,825,804,827,849,818,799,808,814,801,827,851,834,839,834,805,829,828,792,770,776,794,762,770,785,789,767,771,777,752,741,749,739,707,691,697,719,717,706,725,740,729,741,758,765,752,762,794,784,797,829,808,784,791,796,775,787,811,812,801,820,825,795,817,814,780,804,826,839,809,832,838,815,828,842,828,818,830,837,820,850,860,824,820,837,831,804,822,845,840,825,848,830,792,803,808,773,783,814,800,798,817,817,782,796,787,778,777,803,837,788,792,813,820,797,825,857,820,833,851,813,801,823,823,801,825,840,814,820,834,826,792,796,809,775,778,812,809,792,826,836,805,790,804,810,774,783,800,795,776,784,786,759,732,748,746,775,785,748,747,736,708,711,732,737,723,737,767,748,753,777,779,749,760,789,786,765,778,791,769,731,709,711,757,826,860,854,841,841,815,814,821,819,790,811,813,796,826,847,842,820,843,828,812,832,824,799,815,829,794,808,807,781,787,809,811,788,803,813,784,795,800,806,779,785,769,687,693,714,717,680,693,718,733,721,728,731,732,719,715,734,754,743,753,780,795,786,838,838,791,799,813,796,773,792,813,800,791,811,806,779,798,797,759,764,782,774,756,771,800,788,783,815,829,799,812,824,793,782,796,801,770,801,824,808,800,830,820,785,792,793,774,755,764,780,765,786,826,817,803,827,820,778,813,829,783,753,752,755,851,929,945,940,850,849,858,862,827,859,888,873,848,879,886,846,853,853,847,810,834,837,803,802,813,816,777,791,807,788,760,769,788,752,736,747,757,744,765,792,780,764,766,784,786,760,752,769,772,743,729,727,701,681,678,673,674,695,713,730,713,733,755,759,747,771,804,789,785,792,792,767,784,807,817,788,792,801,803,783,794,823,830,791,804,813,795,779,792,801,768,779,775,746,752,759,769,741,745,743,728,717,713,740,740,735,760,798,775,755,750,757,781,782,755,776,797,831,809,835,863,852,844,864,865,841,852,847,832,852,827,817,840,844,811,822,828,792,808,816,802,793,821,821,784,805,818,790,782,808,767,757,784,793,764,756,780,805,827,790,783,790,801,784,804,821,832,807,808,825,844,808,805,836,834,803,820,833,822,808,828,843,816,814,852,837,791,797,809,783,769,765,794,815,810,777,788,800,775,771,801,821,805,804,834,860,814,845,842,800,811,827,790,788,829,825,802,866,866,810,846,872,849,821,838,817,794,831,817,770,785,810,796,807,847,846,797,837,839,777,776,791,782,753,766,808,847,813,840,858,819,823,843,837,807,824,825,799,811,830,809,787,819,809,773,760,762,773,767,745,763,785,759,788,838,841,808,836,861,831,805,810,815,734,735,783,712,717,717,697,742,762,738,705,723,749,756,705,719,734,772,757,792,834,825,801,826,823,785,802,842,830,790,808,832,838,820,859,852,814,832,843,815,849,871,826,835,852,805,803,824,822,778,807,820,782,777,755,793,862,907,897,832,817,824,831,778,782,807,828,805,850,854,811,813,844,842,804,816,816,775,783,812,810,789,823,857,831,793,790,771,729,771,792,770,757,777,794,771,787,808,799,772,793,811,789,784,793,774,750,756,750,739,788,824,782,772,798,801,772,796,825,785,773,821,854,843,838,848,808,793,824,806,771,785,800,784,780,822,827,790,819,829,803,829,847,808,795,824,838,810,791,814,812,790,808,817,781,771,789,774,734,799,814,790,805,851,816,794,825,825,790,797,821,812,798,858,890,840,863,882,842,797,837,844,813,826,868,868,853,897,911,850,878,855,815,846,884,846,849,902,882,827,879,880,825,842,866,813,810,854,868,837,886,913,873,884,917,887,838,850,840,799,838,849,849,829,885,888,837,846,852,827,819,863,885,827,852,877,877,883,935,937,873,906,889,838,842,857,838,825,879,890,853,893,890,844,848,846,798,797,812,808,774,756,737,777,861,867,785,730,744,785,796,778,825,847,804,826,851,821,795,836,856,814,812,845,864,866,828,848,851,860,816,838,823,769,770,789,794,801,830,827,786,831,848,822,823,828,774,755,775,800,774,786,823,836,797,842,847,789,773,765,746,716,705,719,716,732,787,832,831,877,890,839,847,814,771,823,804,780,809,842,835,828,861,881,831,835,830,819,826,851,816,798,815,820,803,831,832,807,827,835,799,792,807,792,778,800,828,834,861,856,818,827,823,799,796,814,819,807,825,847,817,828,839,792,783,793,796,777,796,838,822,836,828,813,829,804,817,823,823,820,839,836,801,819,828,817,848,860,825,842,849,844,827,832,828,821,808,831,845,821,838,842,805,790,784,763,735,716,749,775,793,761,760,781,770,759,780,788,768,772,781,778,749,756,799,818,787,811,817,784,795,805,805,786,801,813,787,788,819,807,769,736,697,767,843,883,888,853,804,818,829,810,830,846,856,827,856,869,850,869,864,833,854,851,825,839,845,848,831,854,839,808,827,844,817,833,850,840,822,833,811,794,808,810,783,786,825,839,831,859,863,829,853,865,841,845,855,870,849,865,888,868,848,864,879,851,857,879,866,837,853,845,789,821,831,832,870,881,837,850,854,785,780,782,791,764,769,753,745,796,1041,917,910,878,797,748,776,825,799,831,856,850,829,869,889,864,846,851,850,809,821,830,800,812,805,807,757,800,801,756,839,842,800,777,808,845,802,780,810,800,756,767,760,733,715,711,712,682,683,701,720,701,750,796,828,797,802,836,808,792]},\"selected\":{\"id\":\"1283\"},\"selection_policy\":{\"id\":\"1282\"}},\"id\":\"1229\",\"type\":\"ColumnDataSource\"},{\"attributes\":{\"source\":{\"id\":\"1234\"}},\"id\":\"1238\",\"type\":\"CDSView\"},{\"attributes\":{\"end\":1091,\"start\":426},\"id\":\"1191\",\"type\":\"Range1d\"},{\"attributes\":{\"axis_label\":\"RR (n+1)\",\"formatter\":{\"id\":\"1271\"},\"major_label_policy\":{\"id\":\"1273\"},\"ticker\":{\"id\":\"1202\"}},\"id\":\"1201\",\"type\":\"LinearAxis\"},{\"attributes\":{},\"id\":\"1206\",\"type\":\"WheelZoomTool\"},{\"attributes\":{},\"id\":\"1280\",\"type\":\"UnionRenderers\"},{\"attributes\":{\"text\":\"Pointcar\\u00e9 plot\"},\"id\":\"1187\",\"type\":\"Title\"},{\"attributes\":{\"data\":{},\"selected\":{\"id\":\"1281\"},\"selection_policy\":{\"id\":\"1280\"}},\"id\":\"1224\",\"type\":\"ColumnDataSource\"},{\"attributes\":{},\"id\":\"1281\",\"type\":\"Selection\"},{\"attributes\":{\"axis\":{\"id\":\"1197\"},\"ticker\":null},\"id\":\"1200\",\"type\":\"Grid\"},{\"attributes\":{\"angle\":{\"value\":0.7853981633974483},\"fill_alpha\":{\"value\":0.4},\"fill_color\":{\"value\":\"#a9373b\"},\"height\":{\"value\":38.22204752621471},\"line_color\":{\"value\":\"gray\"},\"line_dash\":{\"value\":\"dashed\"},\"line_width\":{\"value\":3},\"width\":{\"value\":142.31684751924305},\"x\":{\"value\":793.353488372093},\"y\":{\"value\":793.5167958656331}},\"id\":\"1225\",\"type\":\"Ellipse\"},{\"attributes\":{},\"id\":\"1195\",\"type\":\"LinearScale\"},{\"attributes\":{},\"id\":\"1208\",\"type\":\"SaveTool\"}],\"root_ids\":[\"1186\"]},\"title\":\"Bokeh Application\",\"version\":\"2.3.3\"}};\n",
       "  var render_items = [{\"docid\":\"68e3c60b-0931-42c4-8bb6-2c1cb8175a62\",\"root_ids\":[\"1186\"],\"roots\":{\"1186\":\"893475e1-84a7-48a7-87dd-f05c1a00b4cc\"}}];\n",
       "  root.Bokeh.embed.embed_items_notebook(docs_json, render_items);\n",
       "\n",
       "  }\n",
       "  if (root.Bokeh !== undefined) {\n",
       "    embed_document(root);\n",
       "  } else {\n",
       "    var attempts = 0;\n",
       "    var timer = setInterval(function(root) {\n",
       "      if (root.Bokeh !== undefined) {\n",
       "        clearInterval(timer);\n",
       "        embed_document(root);\n",
       "      } else {\n",
       "        attempts++;\n",
       "        if (attempts > 100) {\n",
       "          clearInterval(timer);\n",
       "          console.log(\"Bokeh: ERROR: Unable to run BokehJS code because BokehJS library is missing\");\n",
       "        }\n",
       "      }\n",
       "    }, 10, root)\n",
       "  }\n",
       "})(window);"
      ],
      "application/vnd.bokehjs_exec.v0+json": ""
     },
     "metadata": {
      "application/vnd.bokehjs_exec.v0+json": {
       "id": "1186"
      }
     },
     "output_type": "display_data"
    }
   ],
   "source": [
    "show(\n",
    "    plot_pointcare(peaks, input_type='peaks', backend='bokeh', figure_size=400)\n",
    ")"
   ]
  },
  {
   "cell_type": "code",
   "execution_count": 8,
   "id": "34b1eac2",
   "metadata": {},
   "outputs": [
    {
     "data": {
      "text/html": [
       "\n",
       "\n",
       "\n",
       "\n",
       "\n",
       "\n",
       "  <div class=\"bk-root\" id=\"42b32c52-f594-4df3-98b7-d41f20c69941\" data-root-id=\"1519\"></div>\n"
      ]
     },
     "metadata": {},
     "output_type": "display_data"
    },
    {
     "data": {
      "application/javascript": [
       "(function(root) {\n",
       "  function embed_document(root) {\n",
       "    \n",
       "  var docs_json = {\"456d47b6-8a99-4821-b7a7-ed914f08d550\":{\"defs\":[],\"roots\":{\"references\":[{\"attributes\":{\"children\":[{\"id\":\"1397\"},{\"id\":\"1460\"}]},\"id\":\"1519\",\"type\":\"Row\"},{\"attributes\":{\"text\":\"Power spectral density\"},\"id\":\"1398\",\"type\":\"Title\"},{\"attributes\":{\"axis\":{\"id\":\"1475\"},\"dimension\":1,\"ticker\":null},\"id\":\"1478\",\"type\":\"Grid\"},{\"attributes\":{\"fill_alpha\":0.1,\"fill_color\":\"#55a868\",\"x\":{\"field\":\"x\"},\"y1\":{\"value\":0},\"y2\":{\"field\":\"y2\"}},\"id\":\"1447\",\"type\":\"VArea\"},{\"attributes\":{},\"id\":\"1420\",\"type\":\"ResetTool\"},{\"attributes\":{\"axis\":{\"id\":\"1408\"},\"ticker\":null},\"id\":\"1411\",\"type\":\"Grid\"},{\"attributes\":{},\"id\":\"1421\",\"type\":\"HelpTool\"},{\"attributes\":{\"data\":{},\"selected\":{\"id\":\"1594\"},\"selection_policy\":{\"id\":\"1593\"}},\"id\":\"1571\",\"type\":\"ColumnDataSource\"},{\"attributes\":{\"data_source\":{\"id\":\"1503\"},\"glyph\":{\"id\":\"1504\"},\"hover_glyph\":null,\"muted_glyph\":null,\"nonselection_glyph\":{\"id\":\"1505\"},\"view\":{\"id\":\"1507\"}},\"id\":\"1506\",\"type\":\"GlyphRenderer\"},{\"attributes\":{\"source\":{\"id\":\"1445\"}},\"id\":\"1449\",\"type\":\"CDSView\"},{\"attributes\":{\"axis\":{\"id\":\"1412\"},\"dimension\":1,\"ticker\":null},\"id\":\"1415\",\"type\":\"Grid\"},{\"attributes\":{\"data_source\":{\"id\":\"1445\"},\"glyph\":{\"id\":\"1446\"},\"hover_glyph\":null,\"muted_glyph\":null,\"nonselection_glyph\":{\"id\":\"1447\"},\"view\":{\"id\":\"1449\"}},\"id\":\"1448\",\"type\":\"GlyphRenderer\"},{\"attributes\":{\"line_alpha\":0.1,\"line_color\":\"grey\",\"x\":{\"field\":\"x\"},\"y\":{\"field\":\"y\"}},\"id\":\"1452\",\"type\":\"Line\"},{\"attributes\":{\"angle\":{\"value\":0.7853981633974483},\"fill_alpha\":{\"value\":0.4},\"fill_color\":{\"value\":\"#a9373b\"},\"height\":{\"value\":38.22204752621471},\"line_color\":{\"value\":\"gray\"},\"line_dash\":{\"value\":\"dashed\"},\"line_width\":{\"value\":3},\"width\":{\"value\":142.31684751924305},\"x\":{\"value\":793.353488372093},\"y\":{\"value\":793.5167958656331}},\"id\":\"1499\",\"type\":\"Ellipse\"},{\"attributes\":{},\"id\":\"1572\",\"type\":\"BasicTickFormatter\"},{\"attributes\":{\"data_source\":{\"id\":\"1498\"},\"glyph\":{\"id\":\"1499\"},\"hover_glyph\":null,\"muted_glyph\":null,\"nonselection_glyph\":{\"id\":\"1500\"},\"view\":{\"id\":\"1502\"}},\"id\":\"1501\",\"type\":\"GlyphRenderer\"},{\"attributes\":{},\"id\":\"1479\",\"type\":\"PanTool\"},{\"attributes\":{\"data_source\":{\"id\":\"1455\"},\"glyph\":{\"id\":\"1456\"},\"hover_glyph\":null,\"muted_glyph\":null,\"nonselection_glyph\":{\"id\":\"1457\"},\"view\":{\"id\":\"1459\"}},\"id\":\"1458\",\"type\":\"GlyphRenderer\"},{\"attributes\":{},\"id\":\"1404\",\"type\":\"LinearScale\"},{\"attributes\":{},\"id\":\"1574\",\"type\":\"AllLabels\"},{\"attributes\":{},\"id\":\"1400\",\"type\":\"DataRange1d\"},{\"attributes\":{\"fill_alpha\":0.2,\"fill_color\":\"#c44e52\",\"x\":{\"field\":\"x\"},\"y1\":{\"value\":0},\"y2\":{\"field\":\"y2\"}},\"id\":\"1456\",\"type\":\"VArea\"},{\"attributes\":{\"data_source\":{\"id\":\"1508\"},\"glyph\":{\"id\":\"1509\"},\"hover_glyph\":null,\"muted_glyph\":null,\"nonselection_glyph\":{\"id\":\"1510\"},\"view\":{\"id\":\"1512\"}},\"id\":\"1511\",\"type\":\"GlyphRenderer\"},{\"attributes\":{\"source\":{\"id\":\"1450\"}},\"id\":\"1454\",\"type\":\"CDSView\"},{\"attributes\":{\"bottom_units\":\"screen\",\"fill_alpha\":0.5,\"fill_color\":\"lightgrey\",\"left_units\":\"screen\",\"level\":\"overlay\",\"line_alpha\":1.0,\"line_color\":\"black\",\"line_dash\":[4,4],\"line_width\":2,\"right_units\":\"screen\",\"syncable\":false,\"top_units\":\"screen\"},\"id\":\"1422\",\"type\":\"BoxAnnotation\"},{\"attributes\":{\"data\":{\"x\":{\"__ndarray__\":\"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\",\"dtype\":\"float64\",\"order\":\"little\",\"shape\":[250]},\"y2\":{\"__ndarray__\":\"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\",\"dtype\":\"float64\",\"order\":\"little\",\"shape\":[250]}},\"selected\":{\"id\":\"1589\"},\"selection_policy\":{\"id\":\"1588\"}},\"id\":\"1455\",\"type\":\"ColumnDataSource\"},{\"attributes\":{\"axis\":{\"id\":\"1471\"},\"ticker\":null},\"id\":\"1474\",\"type\":\"Grid\"},{\"attributes\":{\"angle\":{\"value\":0.7853981633974483},\"fill_alpha\":{\"value\":0.1},\"fill_color\":{\"value\":\"#a9373b\"},\"height\":{\"value\":38.22204752621471},\"line_alpha\":{\"value\":0.1},\"line_color\":{\"value\":\"gray\"},\"line_dash\":{\"value\":\"dashed\"},\"line_width\":{\"value\":3},\"width\":{\"value\":142.31684751924305},\"x\":{\"value\":793.353488372093},\"y\":{\"value\":793.5167958656331}},\"id\":\"1500\",\"type\":\"Ellipse\"},{\"attributes\":{},\"id\":\"1406\",\"type\":\"LinearScale\"},{\"attributes\":{\"end\":1091,\"start\":426},\"id\":\"1465\",\"type\":\"Range1d\"},{\"attributes\":{\"source\":{\"id\":\"1498\"}},\"id\":\"1502\",\"type\":\"CDSView\"},{\"attributes\":{},\"id\":\"1580\",\"type\":\"UnionRenderers\"},{\"attributes\":{},\"id\":\"1402\",\"type\":\"DataRange1d\"},{\"attributes\":{\"active_multi\":null,\"tools\":[{\"id\":\"1416\"},{\"id\":\"1417\"},{\"id\":\"1418\"},{\"id\":\"1419\"},{\"id\":\"1420\"},{\"id\":\"1421\"}]},\"id\":\"1423\",\"type\":\"Toolbar\"},{\"attributes\":{\"fill_alpha\":0.1,\"fill_color\":\"#c44e52\",\"x\":{\"field\":\"x\"},\"y1\":{\"value\":0},\"y2\":{\"field\":\"y2\"}},\"id\":\"1457\",\"type\":\"VArea\"},{\"attributes\":{\"data\":{\"x\":[476,739,773,806,797,833,751,800,779,752,766,751,721,733,737,722,716,709,720,724,724,704,717,721,703,720,732,719,742,757,733,738,772,746,762,788,802,790,733,790,786,781,799,807,793,829,852,823,843,816,831,846,834,831,823,794,785,759,796,817,785,793,796,780,775,754,768,763,706,696,702,737,776,753,737,749,705,754,769,763,763,806,810,822,858,842,807,843,843,811,814,850,867,817,787,806,796,797,796,809,835,830,846,848,817,837,830,805,814,805,789,822,835,813,843,817,782,799,802,766,828,809,785,823,826,795,819,835,815,838,853,850,829,811,831,849,849,836,778,750,756,738,720,740,743,709,730,745,720,739,715,685,700,681,659,671,669,642,649,643,638,636,635,643,646,645,639,631,631,626,644,653,656,658,647,645,651,666,668,649,633,667,695,691,687,673,660,661,654,668,714,775,754,767,936,929,888,834,854,807,784,777,752,735,726,705,685,683,678,663,649,649,653,661,651,654,686,695,703,673,673,662,666,666,679,705,721,691,719,719,704,706,731,709,723,705,727,749,734,735,785,767,768,839,858,812,862,883,846,907,855,922,865,839,920,892,888,898,797,813,795,769,751,785,776,742,802,782,763,783,785,763,773,775,747,772,763,780,763,758,780,782,770,756,776,787,766,759,770,765,769,783,782,765,741,753,714,716,735,734,798,800,854,860,830,840,833,824,735,771,754,769,749,731,723,763,791,812,782,721,729,699,679,668,684,729,758,748,727,716,778,885,811,744,709,697,682,713,780,790,745,722,702,719,784,885,944,895,915,913,935,925,903,879,875,869,847,862,878,859,867,856,846,853,817,784,783,798,830,852,860,813,823,817,827,828,828,781,762,787,825,867,849,860,827,796,823,826,785,774,806,802,769,753,781,795,796,776,747,757,755,741,719,731,754,779,739,740,764,809,817,803,750,743,768,804,829,833,861,864,835,840,836,818,795,817,835,827,803,829,840,811,802,788,758,721,719,712,719,709,714,729,747,742,751,774,797,790,783,784,768,750,763,766,746,759,776,785,781,797,800,772,771,764,749,729,741,770,753,756,763,764,735,731,734,730,711,712,723,734,731,741,756,754,742,750,769,760,752,763,776,753,741,748,753,736,730,752,771,755,729,709,691,697,757,806,836,845,827,824,838,783,786,796,792,811,820,786,798,770,701,690,703,709,708,721,732,716,732,737,714,721,725,734,714,725,721,707,698,717,721,703,705,721,730,705,685,682,701,694,702,729,751,725,745,763,758,741,752,766,735,737,760,782,758,778,789,755,754,779,789,761,769,795,798,783,795,816,816,805,828,831,794,826,824,798,812,825,806,794,808,826,798,799,836,816,786,804,797,781,814,829,808,827,853,836,821,841,846,800,813,813,782,793,829,828,796,804,822,811,802,826,828,794,806,804,772,791,808,769,797,831,802,811,832,813,788,809,824,792,777,757,748,841,889,893,864,788,777,762,796,814,842,808,825,843,825,819,859,876,839,853,846,807,824,832,797,816,827,849,855,845,790,808,797,773,762,767,735,735,729,722,728,737,757,735,726,716,698,694,699,680,693,717,741,740,773,793,766,734,755,779,773,783,833,836,809,824,849,829,811,830,829,814,832,824,788,804,803,782,808,838,811,787,812,802,786,812,824,784,782,784,780,771,798,825,804,827,849,818,799,808,814,801,827,851,834,839,834,805,829,828,792,770,776,794,762,770,785,789,767,771,777,752,741,749,739,707,691,697,719,717,706,725,740,729,741,758,765,752,762,794,784,797,829,808,784,791,796,775,787,811,812,801,820,825,795,817,814,780,804,826,839,809,832,838,815,828,842,828,818,830,837,820,850,860,824,820,837,831,804,822,845,840,825,848,830,792,803,808,773,783,814,800,798,817,817,782,796,787,778,777,803,837,788,792,813,820,797,825,857,820,833,851,813,801,823,823,801,825,840,814,820,834,826,792,796,809,775,778,812,809,792,826,836,805,790,804,810,774,783,800,795,776,784,786,759,732,748,746,775,785,748,747,736,708,711,732,737,723,737,767,748,753,777,779,749,760,789,786,765,778,791,769,731,709,711,757,826,860,854,841,841,815,814,821,819,790,811,813,796,826,847,842,820,843,828,812,832,824,799,815,829,794,808,807,781,787,809,811,788,803,813,784,795,800,806,779,785,769,687,693,714,717,680,693,718,733,721,728,731,732,719,715,734,754,743,753,780,795,786,838,838,791,799,813,796,773,792,813,800,791,811,806,779,798,797,759,764,782,774,756,771,800,788,783,815,829,799,812,824,793,782,796,801,770,801,824,808,800,830,820,785,792,793,774,755,764,780,765,786,826,817,803,827,820,778,813,829,783,753,752,755,851,929,945,940,850,849,858,862,827,859,888,873,848,879,886,846,853,853,847,810,834,837,803,802,813,816,777,791,807,788,760,769,788,752,736,747,757,744,765,792,780,764,766,784,786,760,752,769,772,743,729,727,701,681,678,673,674,695,713,730,713,733,755,759,747,771,804,789,785,792,792,767,784,807,817,788,792,801,803,783,794,823,830,791,804,813,795,779,792,801,768,779,775,746,752,759,769,741,745,743,728,717,713,740,740,735,760,798,775,755,750,757,781,782,755,776,797,831,809,835,863,852,844,864,865,841,852,847,832,852,827,817,840,844,811,822,828,792,808,816,802,793,821,821,784,805,818,790,782,808,767,757,784,793,764,756,780,805,827,790,783,790,801,784,804,821,832,807,808,825,844,808,805,836,834,803,820,833,822,808,828,843,816,814,852,837,791,797,809,783,769,765,794,815,810,777,788,800,775,771,801,821,805,804,834,860,814,845,842,800,811,827,790,788,829,825,802,866,866,810,846,872,849,821,838,817,794,831,817,770,785,810,796,807,847,846,797,837,839,777,776,791,782,753,766,808,847,813,840,858,819,823,843,837,807,824,825,799,811,830,809,787,819,809,773,760,762,773,767,745,763,785,759,788,838,841,808,836,861,831,805,810,815,734,735,783,712,717,717,697,742,762,738,705,723,749,756,705,719,734,772,757,792,834,825,801,826,823,785,802,842,830,790,808,832,838,820,859,852,814,832,843,815,849,871,826,835,852,805,803,824,822,778,807,820,782,777,755,793,862,907,897,832,817,824,831,778,782,807,828,805,850,854,811,813,844,842,804,816,816,775,783,812,810,789,823,857,831,793,790,771,729,771,792,770,757,777,794,771,787,808,799,772,793,811,789,784,793,774,750,756,750,739,788,824,782,772,798,801,772,796,825,785,773,821,854,843,838,848,808,793,824,806,771,785,800,784,780,822,827,790,819,829,803,829,847,808,795,824,838,810,791,814,812,790,808,817,781,771,789,774,734,799,814,790,805,851,816,794,825,825,790,797,821,812,798,858,890,840,863,882,842,797,837,844,813,826,868,868,853,897,911,850,878,855,815,846,884,846,849,902,882,827,879,880,825,842,866,813,810,854,868,837,886,913,873,884,917,887,838,850,840,799,838,849,849,829,885,888,837,846,852,827,819,863,885,827,852,877,877,883,935,937,873,906,889,838,842,857,838,825,879,890,853,893,890,844,848,846,798,797,812,808,774,756,737,777,861,867,785,730,744,785,796,778,825,847,804,826,851,821,795,836,856,814,812,845,864,866,828,848,851,860,816,838,823,769,770,789,794,801,830,827,786,831,848,822,823,828,774,755,775,800,774,786,823,836,797,842,847,789,773,765,746,716,705,719,716,732,787,832,831,877,890,839,847,814,771,823,804,780,809,842,835,828,861,881,831,835,830,819,826,851,816,798,815,820,803,831,832,807,827,835,799,792,807,792,778,800,828,834,861,856,818,827,823,799,796,814,819,807,825,847,817,828,839,792,783,793,796,777,796,838,822,836,828,813,829,804,817,823,823,820,839,836,801,819,828,817,848,860,825,842,849,844,827,832,828,821,808,831,845,821,838,842,805,790,784,763,735,716,749,775,793,761,760,781,770,759,780,788,768,772,781,778,749,756,799,818,787,811,817,784,795,805,805,786,801,813,787,788,819,807,769,736,697,767,843,883,888,853,804,818,829,810,830,846,856,827,856,869,850,869,864,833,854,851,825,839,845,848,831,854,839,808,827,844,817,833,850,840,822,833,811,794,808,810,783,786,825,839,831,859,863,829,853,865,841,845,855,870,849,865,888,868,848,864,879,851,857,879,866,837,853,845,789,821,831,832,870,881,837,850,854,785,780,782,791,764,769,753,745,796,1041,917,910,878,797,748,776,825,799,831,856,850,829,869,889,864,846,851,850,809,821,830,800,812,805,807,757,800,801,756,839,842,800,777,808,845,802,780,810,800,756,767,760,733,715,711,712,682,683,701,720,701,750,796,828,797,802,836,808],\"y\":[739,773,806,797,833,751,800,779,752,766,751,721,733,737,722,716,709,720,724,724,704,717,721,703,720,732,719,742,757,733,738,772,746,762,788,802,790,733,790,786,781,799,807,793,829,852,823,843,816,831,846,834,831,823,794,785,759,796,817,785,793,796,780,775,754,768,763,706,696,702,737,776,753,737,749,705,754,769,763,763,806,810,822,858,842,807,843,843,811,814,850,867,817,787,806,796,797,796,809,835,830,846,848,817,837,830,805,814,805,789,822,835,813,843,817,782,799,802,766,828,809,785,823,826,795,819,835,815,838,853,850,829,811,831,849,849,836,778,750,756,738,720,740,743,709,730,745,720,739,715,685,700,681,659,671,669,642,649,643,638,636,635,643,646,645,639,631,631,626,644,653,656,658,647,645,651,666,668,649,633,667,695,691,687,673,660,661,654,668,714,775,754,767,936,929,888,834,854,807,784,777,752,735,726,705,685,683,678,663,649,649,653,661,651,654,686,695,703,673,673,662,666,666,679,705,721,691,719,719,704,706,731,709,723,705,727,749,734,735,785,767,768,839,858,812,862,883,846,907,855,922,865,839,920,892,888,898,797,813,795,769,751,785,776,742,802,782,763,783,785,763,773,775,747,772,763,780,763,758,780,782,770,756,776,787,766,759,770,765,769,783,782,765,741,753,714,716,735,734,798,800,854,860,830,840,833,824,735,771,754,769,749,731,723,763,791,812,782,721,729,699,679,668,684,729,758,748,727,716,778,885,811,744,709,697,682,713,780,790,745,722,702,719,784,885,944,895,915,913,935,925,903,879,875,869,847,862,878,859,867,856,846,853,817,784,783,798,830,852,860,813,823,817,827,828,828,781,762,787,825,867,849,860,827,796,823,826,785,774,806,802,769,753,781,795,796,776,747,757,755,741,719,731,754,779,739,740,764,809,817,803,750,743,768,804,829,833,861,864,835,840,836,818,795,817,835,827,803,829,840,811,802,788,758,721,719,712,719,709,714,729,747,742,751,774,797,790,783,784,768,750,763,766,746,759,776,785,781,797,800,772,771,764,749,729,741,770,753,756,763,764,735,731,734,730,711,712,723,734,731,741,756,754,742,750,769,760,752,763,776,753,741,748,753,736,730,752,771,755,729,709,691,697,757,806,836,845,827,824,838,783,786,796,792,811,820,786,798,770,701,690,703,709,708,721,732,716,732,737,714,721,725,734,714,725,721,707,698,717,721,703,705,721,730,705,685,682,701,694,702,729,751,725,745,763,758,741,752,766,735,737,760,782,758,778,789,755,754,779,789,761,769,795,798,783,795,816,816,805,828,831,794,826,824,798,812,825,806,794,808,826,798,799,836,816,786,804,797,781,814,829,808,827,853,836,821,841,846,800,813,813,782,793,829,828,796,804,822,811,802,826,828,794,806,804,772,791,808,769,797,831,802,811,832,813,788,809,824,792,777,757,748,841,889,893,864,788,777,762,796,814,842,808,825,843,825,819,859,876,839,853,846,807,824,832,797,816,827,849,855,845,790,808,797,773,762,767,735,735,729,722,728,737,757,735,726,716,698,694,699,680,693,717,741,740,773,793,766,734,755,779,773,783,833,836,809,824,849,829,811,830,829,814,832,824,788,804,803,782,808,838,811,787,812,802,786,812,824,784,782,784,780,771,798,825,804,827,849,818,799,808,814,801,827,851,834,839,834,805,829,828,792,770,776,794,762,770,785,789,767,771,777,752,741,749,739,707,691,697,719,717,706,725,740,729,741,758,765,752,762,794,784,797,829,808,784,791,796,775,787,811,812,801,820,825,795,817,814,780,804,826,839,809,832,838,815,828,842,828,818,830,837,820,850,860,824,820,837,831,804,822,845,840,825,848,830,792,803,808,773,783,814,800,798,817,817,782,796,787,778,777,803,837,788,792,813,820,797,825,857,820,833,851,813,801,823,823,801,825,840,814,820,834,826,792,796,809,775,778,812,809,792,826,836,805,790,804,810,774,783,800,795,776,784,786,759,732,748,746,775,785,748,747,736,708,711,732,737,723,737,767,748,753,777,779,749,760,789,786,765,778,791,769,731,709,711,757,826,860,854,841,841,815,814,821,819,790,811,813,796,826,847,842,820,843,828,812,832,824,799,815,829,794,808,807,781,787,809,811,788,803,813,784,795,800,806,779,785,769,687,693,714,717,680,693,718,733,721,728,731,732,719,715,734,754,743,753,780,795,786,838,838,791,799,813,796,773,792,813,800,791,811,806,779,798,797,759,764,782,774,756,771,800,788,783,815,829,799,812,824,793,782,796,801,770,801,824,808,800,830,820,785,792,793,774,755,764,780,765,786,826,817,803,827,820,778,813,829,783,753,752,755,851,929,945,940,850,849,858,862,827,859,888,873,848,879,886,846,853,853,847,810,834,837,803,802,813,816,777,791,807,788,760,769,788,752,736,747,757,744,765,792,780,764,766,784,786,760,752,769,772,743,729,727,701,681,678,673,674,695,713,730,713,733,755,759,747,771,804,789,785,792,792,767,784,807,817,788,792,801,803,783,794,823,830,791,804,813,795,779,792,801,768,779,775,746,752,759,769,741,745,743,728,717,713,740,740,735,760,798,775,755,750,757,781,782,755,776,797,831,809,835,863,852,844,864,865,841,852,847,832,852,827,817,840,844,811,822,828,792,808,816,802,793,821,821,784,805,818,790,782,808,767,757,784,793,764,756,780,805,827,790,783,790,801,784,804,821,832,807,808,825,844,808,805,836,834,803,820,833,822,808,828,843,816,814,852,837,791,797,809,783,769,765,794,815,810,777,788,800,775,771,801,821,805,804,834,860,814,845,842,800,811,827,790,788,829,825,802,866,866,810,846,872,849,821,838,817,794,831,817,770,785,810,796,807,847,846,797,837,839,777,776,791,782,753,766,808,847,813,840,858,819,823,843,837,807,824,825,799,811,830,809,787,819,809,773,760,762,773,767,745,763,785,759,788,838,841,808,836,861,831,805,810,815,734,735,783,712,717,717,697,742,762,738,705,723,749,756,705,719,734,772,757,792,834,825,801,826,823,785,802,842,830,790,808,832,838,820,859,852,814,832,843,815,849,871,826,835,852,805,803,824,822,778,807,820,782,777,755,793,862,907,897,832,817,824,831,778,782,807,828,805,850,854,811,813,844,842,804,816,816,775,783,812,810,789,823,857,831,793,790,771,729,771,792,770,757,777,794,771,787,808,799,772,793,811,789,784,793,774,750,756,750,739,788,824,782,772,798,801,772,796,825,785,773,821,854,843,838,848,808,793,824,806,771,785,800,784,780,822,827,790,819,829,803,829,847,808,795,824,838,810,791,814,812,790,808,817,781,771,789,774,734,799,814,790,805,851,816,794,825,825,790,797,821,812,798,858,890,840,863,882,842,797,837,844,813,826,868,868,853,897,911,850,878,855,815,846,884,846,849,902,882,827,879,880,825,842,866,813,810,854,868,837,886,913,873,884,917,887,838,850,840,799,838,849,849,829,885,888,837,846,852,827,819,863,885,827,852,877,877,883,935,937,873,906,889,838,842,857,838,825,879,890,853,893,890,844,848,846,798,797,812,808,774,756,737,777,861,867,785,730,744,785,796,778,825,847,804,826,851,821,795,836,856,814,812,845,864,866,828,848,851,860,816,838,823,769,770,789,794,801,830,827,786,831,848,822,823,828,774,755,775,800,774,786,823,836,797,842,847,789,773,765,746,716,705,719,716,732,787,832,831,877,890,839,847,814,771,823,804,780,809,842,835,828,861,881,831,835,830,819,826,851,816,798,815,820,803,831,832,807,827,835,799,792,807,792,778,800,828,834,861,856,818,827,823,799,796,814,819,807,825,847,817,828,839,792,783,793,796,777,796,838,822,836,828,813,829,804,817,823,823,820,839,836,801,819,828,817,848,860,825,842,849,844,827,832,828,821,808,831,845,821,838,842,805,790,784,763,735,716,749,775,793,761,760,781,770,759,780,788,768,772,781,778,749,756,799,818,787,811,817,784,795,805,805,786,801,813,787,788,819,807,769,736,697,767,843,883,888,853,804,818,829,810,830,846,856,827,856,869,850,869,864,833,854,851,825,839,845,848,831,854,839,808,827,844,817,833,850,840,822,833,811,794,808,810,783,786,825,839,831,859,863,829,853,865,841,845,855,870,849,865,888,868,848,864,879,851,857,879,866,837,853,845,789,821,831,832,870,881,837,850,854,785,780,782,791,764,769,753,745,796,1041,917,910,878,797,748,776,825,799,831,856,850,829,869,889,864,846,851,850,809,821,830,800,812,805,807,757,800,801,756,839,842,800,777,808,845,802,780,810,800,756,767,760,733,715,711,712,682,683,701,720,701,750,796,828,797,802,836,808,792]},\"selected\":{\"id\":\"1600\"},\"selection_policy\":{\"id\":\"1599\"}},\"id\":\"1503\",\"type\":\"ColumnDataSource\"},{\"attributes\":{},\"id\":\"1480\",\"type\":\"WheelZoomTool\"},{\"attributes\":{},\"id\":\"1581\",\"type\":\"Selection\"},{\"attributes\":{\"data_source\":{\"id\":\"1450\"},\"glyph\":{\"id\":\"1451\"},\"hover_glyph\":null,\"muted_glyph\":null,\"nonselection_glyph\":{\"id\":\"1452\"},\"view\":{\"id\":\"1454\"}},\"id\":\"1453\",\"type\":\"GlyphRenderer\"},{\"attributes\":{\"axis_label\":\"Frequency (Hz)\",\"formatter\":{\"id\":\"1564\"},\"major_label_policy\":{\"id\":\"1566\"},\"ticker\":{\"id\":\"1409\"}},\"id\":\"1408\",\"type\":\"LinearAxis\"},{\"attributes\":{\"source\":{\"id\":\"1503\"}},\"id\":\"1507\",\"type\":\"CDSView\"},{\"attributes\":{},\"id\":\"1483\",\"type\":\"ResetTool\"},{\"attributes\":{\"fill_color\":{\"value\":\"blue\"},\"size\":{\"value\":10}},\"id\":\"1513\",\"type\":\"NormalHead\"},{\"attributes\":{\"overlay\":{\"id\":\"1485\"}},\"id\":\"1481\",\"type\":\"BoxZoomTool\"},{\"attributes\":{\"fill_alpha\":{\"value\":0.1},\"fill_color\":{\"value\":\"#4c72b0\"},\"line_alpha\":{\"value\":0.1},\"line_color\":{\"value\":\"gray\"},\"size\":{\"value\":2.5},\"x\":{\"field\":\"x\"},\"y\":{\"field\":\"y\"}},\"id\":\"1505\",\"type\":\"Circle\"},{\"attributes\":{},\"id\":\"1482\",\"type\":\"SaveTool\"},{\"attributes\":{\"source\":{\"id\":\"1508\"}},\"id\":\"1512\",\"type\":\"CDSView\"},{\"attributes\":{\"data_source\":{\"id\":\"1430\"},\"glyph\":{\"id\":\"1431\"},\"hover_glyph\":null,\"muted_glyph\":null,\"nonselection_glyph\":{\"id\":\"1432\"},\"view\":{\"id\":\"1434\"}},\"id\":\"1433\",\"type\":\"GlyphRenderer\"},{\"attributes\":{\"line_alpha\":0.1,\"line_color\":\"grey\",\"x\":{\"field\":\"x\"},\"y\":{\"field\":\"y\"}},\"id\":\"1432\",\"type\":\"Line\"},{\"attributes\":{\"line_alpha\":0.1,\"line_color\":\"grey\",\"line_dash\":[6],\"x\":{\"field\":\"x\"},\"y\":{\"field\":\"y\"}},\"id\":\"1495\",\"type\":\"Line\"},{\"attributes\":{\"axis_label\":\"PSD [s\\u00b2/Hz]\",\"formatter\":{\"id\":\"1567\"},\"major_label_policy\":{\"id\":\"1569\"},\"ticker\":{\"id\":\"1413\"}},\"id\":\"1412\",\"type\":\"LinearAxis\"},{\"attributes\":{},\"id\":\"1484\",\"type\":\"HelpTool\"},{\"attributes\":{},\"id\":\"1409\",\"type\":\"BasicTicker\"},{\"attributes\":{\"fill_alpha\":{\"value\":0.2},\"fill_color\":{\"value\":\"#4c72b0\"},\"line_alpha\":{\"value\":0.2},\"line_color\":{\"value\":\"gray\"},\"size\":{\"value\":2.5},\"x\":{\"field\":\"x\"},\"y\":{\"field\":\"y\"}},\"id\":\"1504\",\"type\":\"Circle\"},{\"attributes\":{\"line_color\":\"grey\",\"x\":{\"field\":\"x\"},\"y\":{\"field\":\"y\"}},\"id\":\"1431\",\"type\":\"Line\"},{\"attributes\":{\"data\":{\"x\":[],\"y\":[]},\"selected\":{\"id\":\"1602\"},\"selection_policy\":{\"id\":\"1601\"}},\"id\":\"1508\",\"type\":\"ColumnDataSource\"},{\"attributes\":{\"below\":[{\"id\":\"1408\"}],\"center\":[{\"id\":\"1411\"},{\"id\":\"1415\"}],\"height\":500,\"left\":[{\"id\":\"1412\"}],\"output_backend\":\"webgl\",\"renderers\":[{\"id\":\"1433\"},{\"id\":\"1438\"},{\"id\":\"1443\"},{\"id\":\"1448\"},{\"id\":\"1453\"},{\"id\":\"1458\"}],\"title\":{\"id\":\"1398\"},\"toolbar\":{\"id\":\"1423\"},\"x_range\":{\"id\":\"1400\"},\"x_scale\":{\"id\":\"1404\"},\"y_range\":{\"id\":\"1402\"},\"y_scale\":{\"id\":\"1406\"}},\"id\":\"1397\",\"subtype\":\"Figure\",\"type\":\"Plot\"},{\"attributes\":{\"fill_alpha\":{\"value\":0.1},\"fill_color\":{\"value\":\"#a9373b\"},\"line_alpha\":{\"value\":0.1},\"line_color\":{\"value\":\"#a9373b\"},\"size\":{\"value\":5},\"x\":{\"field\":\"x\"},\"y\":{\"field\":\"y\"}},\"id\":\"1510\",\"type\":\"Circle\"},{\"attributes\":{\"end\":{\"id\":\"1513\"},\"source\":{\"id\":\"1570\"},\"start\":null,\"x_end\":{\"value\":779.8399538737825},\"x_start\":{\"value\":793.353488372093},\"y_end\":{\"value\":807.0303303639436},\"y_start\":{\"value\":793.5167958656331}},\"id\":\"1514\",\"type\":\"Arrow\"},{\"attributes\":{\"source\":{\"id\":\"1430\"}},\"id\":\"1434\",\"type\":\"CDSView\"},{\"attributes\":{},\"id\":\"1583\",\"type\":\"Selection\"},{\"attributes\":{\"data\":{\"x\":{\"__ndarray__\":\"+n5qvHSTaD/8qfHSTWJwP3sUrkfhenQ/+n5qvHSTeD956SYxCKx8P/yp8dJNYoA/PN9PjZdugj97FK5H4XqEP7pJDAIrh4Y/+n5qvHSTiD86tMh2vp+KP3jpJjEIrIw/uB6F61G4jj/8qfHSTWKQP5zEILByaJE/O99PjZdukj/b+X5qvHSTP3sUrkfhepQ/Gy/dJAaBlT+6SQwCK4eWP1pkO99PjZc/+n5qvHSTmD+ZmZmZmZmZPzm0yHa+n5o/2c73U+Olmz956SYxCKycPxkEVg4tsp0/uB6F61G4nj9YObTIdr6fP/yp8dJNYqA/TDeJQWDloD+cxCCwcmihP+xRuB6F66E/PN9PjZduoj+MbOf7qfGiP9z5fmq8dKM/LIcW2c73oz97FK5H4XqkPw==\",\"dtype\":\"float64\",\"order\":\"little\",\"shape\":[38]},\"y2\":{\"__ndarray__\":\"zEoia2WOrj94gpx0jmWxP4XVJDpP2LI/WfNMkYKjsz/BsDcFNsuzP/6fOjd9U7M/S2Pur11Gsj+6Ru31mbuwPyag963Hma0/pZEScHkoqT+3VTGGmI+kPypZ/DXan6A/gtNA/6honD8cibu6PEecP0KYorOleKA/uMJDd8AjpD/mEYPNcwCoP6LPDH+o8Ko/ujux40SBrD/gF2T2s/isP5xeU7Otpqw/S8geDUDXqz/4VGe3l5aqP3zHa/ueuqg/rMXix4YXpj8hkHMSNYyiP4AfLj238Zw/vOnSCuEmlT/+rdhFz02OP5d9GU73YYg/bodRVFrIhz8Q5eK+khKKP+L77FOwzow/7t/ZG/LWjT+yBICbye+MP1WgG1vHn4o/mUaxvvdthz/B7Cl23OSDPw==\",\"dtype\":\"float64\",\"order\":\"little\",\"shape\":[38]}},\"selected\":{\"id\":\"1581\"},\"selection_policy\":{\"id\":\"1580\"}},\"id\":\"1435\",\"type\":\"ColumnDataSource\"},{\"attributes\":{},\"id\":\"1472\",\"type\":\"BasicTicker\"},{\"attributes\":{},\"id\":\"1413\",\"type\":\"BasicTicker\"},{\"attributes\":{\"data\":{\"x\":{\"__ndarray__\":\"+n5qvHSTaD/8qfHSTWJwP3sUrkfhenQ/+n5qvHSTeD956SYxCKx8P/yp8dJNYoA/PN9PjZdugj97FK5H4XqEP7pJDAIrh4Y/+n5qvHSTiD86tMh2vp+KP3jpJjEIrIw/uB6F61G4jj/8qfHSTWKQP5zEILByaJE/O99PjZdukj/b+X5qvHSTP3sUrkfhepQ/Gy/dJAaBlT+6SQwCK4eWP1pkO99PjZc/+n5qvHSTmD+ZmZmZmZmZPzm0yHa+n5o/2c73U+Olmz956SYxCKycPxkEVg4tsp0/uB6F61G4nj9YObTIdr6fP/yp8dJNYqA/TDeJQWDloD+cxCCwcmihP+xRuB6F66E/PN9PjZduoj+MbOf7qfGiP9z5fmq8dKM/LIcW2c73oz97FK5H4XqkPw==\",\"dtype\":\"float64\",\"order\":\"little\",\"shape\":[38]},\"y\":{\"__ndarray__\":\"zEoia2WOrj94gpx0jmWxP4XVJDpP2LI/WfNMkYKjsz/BsDcFNsuzP/6fOjd9U7M/S2Pur11Gsj+6Ru31mbuwPyag963Hma0/pZEScHkoqT+3VTGGmI+kPypZ/DXan6A/gtNA/6honD8cibu6PEecP0KYorOleKA/uMJDd8AjpD/mEYPNcwCoP6LPDH+o8Ko/ujux40SBrD/gF2T2s/isP5xeU7Otpqw/S8geDUDXqz/4VGe3l5aqP3zHa/ueuqg/rMXix4YXpj8hkHMSNYyiP4AfLj238Zw/vOnSCuEmlT/+rdhFz02OP5d9GU73YYg/bodRVFrIhz8Q5eK+khKKP+L77FOwzow/7t/ZG/LWjT+yBICbye+MP1WgG1vHn4o/mUaxvvdthz/B7Cl23OSDPw==\",\"dtype\":\"float64\",\"order\":\"little\",\"shape\":[38]}},\"selected\":{\"id\":\"1579\"},\"selection_policy\":{\"id\":\"1578\"}},\"id\":\"1430\",\"type\":\"ColumnDataSource\"},{\"attributes\":{\"fill_color\":{\"value\":\"green\"},\"size\":{\"value\":10}},\"id\":\"1516\",\"type\":\"NormalHead\"},{\"attributes\":{\"fill_alpha\":0.1,\"fill_color\":\"#4c72b0\",\"x\":{\"field\":\"x\"},\"y1\":{\"value\":0},\"y2\":{\"field\":\"y2\"}},\"id\":\"1437\",\"type\":\"VArea\"},{\"attributes\":{},\"id\":\"1569\",\"type\":\"AllLabels\"},{\"attributes\":{\"fill_alpha\":{\"value\":0.8},\"fill_color\":{\"value\":\"#a9373b\"},\"line_alpha\":{\"value\":0.8},\"line_color\":{\"value\":\"#a9373b\"},\"size\":{\"value\":5},\"x\":{\"field\":\"x\"},\"y\":{\"field\":\"y\"}},\"id\":\"1509\",\"type\":\"Circle\"},{\"attributes\":{},\"id\":\"1575\",\"type\":\"BasicTickFormatter\"},{\"attributes\":{\"active_multi\":null,\"tools\":[{\"id\":\"1479\"},{\"id\":\"1480\"},{\"id\":\"1481\"},{\"id\":\"1482\"},{\"id\":\"1483\"},{\"id\":\"1484\"}]},\"id\":\"1486\",\"type\":\"Toolbar\"},{\"attributes\":{},\"id\":\"1582\",\"type\":\"UnionRenderers\"},{\"attributes\":{\"end\":{\"id\":\"1516\"},\"source\":{\"id\":\"1571\"},\"start\":null,\"x_end\":{\"value\":843.6700923510673},\"x_start\":{\"value\":793.353488372093},\"y_end\":{\"value\":843.8333998446074},\"y_start\":{\"value\":793.5167958656331}},\"id\":\"1517\",\"type\":\"Arrow\"},{\"attributes\":{},\"id\":\"1416\",\"type\":\"PanTool\"},{\"attributes\":{},\"id\":\"1469\",\"type\":\"LinearScale\"},{\"attributes\":{\"source\":{\"id\":\"1435\"}},\"id\":\"1439\",\"type\":\"CDSView\"},{\"attributes\":{},\"id\":\"1577\",\"type\":\"AllLabels\"},{\"attributes\":{},\"id\":\"1564\",\"type\":\"BasicTickFormatter\"},{\"attributes\":{\"fill_alpha\":0.2,\"fill_color\":\"#4c72b0\",\"x\":{\"field\":\"x\"},\"y1\":{\"value\":0},\"y2\":{\"field\":\"y2\"}},\"id\":\"1436\",\"type\":\"VArea\"},{\"attributes\":{\"bottom_units\":\"screen\",\"fill_alpha\":0.5,\"fill_color\":\"lightgrey\",\"left_units\":\"screen\",\"level\":\"overlay\",\"line_alpha\":1.0,\"line_color\":\"black\",\"line_dash\":[4,4],\"line_width\":2,\"right_units\":\"screen\",\"syncable\":false,\"top_units\":\"screen\"},\"id\":\"1485\",\"type\":\"BoxAnnotation\"},{\"attributes\":{\"data_source\":{\"id\":\"1435\"},\"glyph\":{\"id\":\"1436\"},\"hover_glyph\":null,\"muted_glyph\":null,\"nonselection_glyph\":{\"id\":\"1437\"},\"view\":{\"id\":\"1439\"}},\"id\":\"1438\",\"type\":\"GlyphRenderer\"},{\"attributes\":{\"axis_label\":\"RR (n+1)\",\"formatter\":{\"id\":\"1575\"},\"major_label_policy\":{\"id\":\"1577\"},\"ticker\":{\"id\":\"1476\"}},\"id\":\"1475\",\"type\":\"LinearAxis\"},{\"attributes\":{\"data\":{\"x\":[426,1091],\"y\":[426,1091]},\"selected\":{\"id\":\"1596\"},\"selection_policy\":{\"id\":\"1595\"}},\"id\":\"1493\",\"type\":\"ColumnDataSource\"},{\"attributes\":{},\"id\":\"1566\",\"type\":\"AllLabels\"},{\"attributes\":{\"data\":{\"x\":{\"__ndarray__\":\"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\",\"dtype\":\"float64\",\"order\":\"little\",\"shape\":[250]},\"y\":{\"__ndarray__\":\"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\",\"dtype\":\"float64\",\"order\":\"little\",\"shape\":[250]}},\"selected\":{\"id\":\"1587\"},\"selection_policy\":{\"id\":\"1586\"}},\"id\":\"1450\",\"type\":\"ColumnDataSource\"},{\"attributes\":{\"source\":{\"id\":\"1493\"}},\"id\":\"1497\",\"type\":\"CDSView\"},{\"attributes\":{\"data\":{\"x\":{\"__ndarray__\":\"exSuR+F6pD/LoUW28/2kPxsv3SQGgaU/a7x0kxgEpj+7SQwCK4emPwvXo3A9Cqc/W2Q730+Npz+q8dJNYhCoP/p+arx0k6g/SgwCK4cWqT+amZmZmZmpP+omMQisHKo/OrTIdr6fqj+KQWDl0CKrP9rO91Pjpas/KlyPwvUorD956SYxCKysP8l2vp8aL60/GQRWDi2yrT9pke18PzWuP7kehetRuK4/CawcWmQ7rz9ZObTIdr6vP1TjpZvEILA//Knx0k1isD+kcD0K16OwP0w3iUFg5bA/9P3UeOkmsT+cxCCwcmixP0SLbOf7qbE/7FG4HoXrsT+UGARWDi2yPzzfT42XbrI/5KWbxCCwsj+MbOf7qfGyPzQzMzMzM7M/2/l+arx0sz+DwMqhRbazPyuHFtnO97M/001iEFg5tD97FK5H4Xq0PyPb+X5qvLQ/y6FFtvP9tD9zaJHtfD+1Pxsv3SQGgbU/w/UoXI/CtT9rvHSTGAS2PxODwMqhRbY/u0kMAiuHtj9jEFg5tMi2PwvXo3A9Crc/sp3vp8ZLtz9aZDvfT423PwIrhxbZzrc/qvHSTWIQuD9SuB6F61G4P/p+arx0k7g/okW28/3UuD9KDAIrhxa5P/LSTWIQWLk/mpmZmZmZuT9CYOXQItu5P+omMQisHLo/ku18PzVeuj86tMh2vp+6P+J6FK5H4bo/ikFg5dAiuz8yCKwcWmS7P9nO91Pjpbs/gZVDi2znuz8pXI/C9Si8P9Ei2/l+arw/eekmMQisvD8hsHJoke28P8l2vp8aL70/cT0K16NwvT8ZBFYOLbK9P8HKoUW2870/aZHtfD81vj8RWDm0yHa+P7kehetRuL4/YeXQItv5vj8JrBxaZDu/P7ByaJHtfL8/WDm0yHa+vz8AAAAAAADAP1TjpZvEIMA/qMZLN4lBwD/8qfHSTWLAP1CNl24Sg8A/pHA9CtejwD/4U+Olm8TAP0w3iUFg5cA/oBov3SQGwT/0/dR46SbBP0jhehSuR8E/nMQgsHJowT/wp8ZLN4nBP0SLbOf7qcE/mG4Sg8DKwT/sUbgehevBP0A1XrpJDMI/lBgEVg4twj/o+6nx0k3CPzzfT42XbsI/kML1KFyPwj/kpZvEILDCPziJQWDl0MI/i2zn+6nxwj/fT42XbhLDPzMzMzMzM8M/\",\"dtype\":\"float64\",\"order\":\"little\",\"shape\":[111]},\"y\":{\"__ndarray__\":\"wewpdtzkgz9iM318qJ+AP6O0efUsfXw/jHQEusHDej/TedX0BMd8P0WN13GWnYA/Am6mOPovgz9q94LQojqFPzzIhpM1IIY/3wjKoJb7hT8LH64TNweFP4Or3/6OfYM/WNu5Ta+dgT/Lm2BjyWB/Pz40iWBy/3s/cM0PtWOqeT+6gS9v2qt4P0ujcgnC1ng/CxdhlvbyeT/RHO/8xsZ7PwDMCmNd3n0/jrNBVJd7fz/vpo1mett/P7XnAP7ERH4/c5vfAtDdej/Ty5/hjqx2P4nwz9StwHI/IDKA+k0acD+WBuIiRJZtPzxGKV+NVGw/Wt9vvrsTaz/0SpDhwZhoPz8BrM8lCWU/Rz0zboxhYT9APX6/WENdP7nVuxHyXFs/f6OJ4H41XT9uRi0KDBZhP+x2zuRUz2Q/p5qINiRxaT+ab1ykMoxuP4qyCDnw03E/xH1WS8UldD9pv2ziEQd2P1JCW4mLZXc/I9Hu8E04eD/bCuP0dnZ4P71oN/9sP3g/WKNHtUU4eD/Av9q/yCF5P6s5dPNmvHs/7OrVmT0ggD9gFleWXceCP45BqQk6KYU/Pm3amhWchj/WNrfp9L+GP1XgGC8cxIU/HqD4+ETogz+vHhnxUWyBPyvOftwxMn0/DUAqlduJdz+k4P/PhI5yP0PkYd231m0/d9dtGLCtaT8feMSGDvxnPxP88ssrDGg/sFcmUZsoaT+yY5zKhKBqP5E0s2pIx2s/g8Frw27waz9ulcq29YBqP7B19oneymc/yYceQ/rKZD++Vo1H34FiPzUzKGPv02E/G65GQ66UYj9iTTVpnP5jP+7uz7SJSmU/+Rwb4+LGZT8oRFrRjVtlPwIr0uTZMmQ/x9TEgVp3Yj8MYkanGlpgP7WroD3uXFw/4E9Rt0emWD9IrJVMrU1WPx5wWnQi31U/wxhjPQohVz8k12icX6hZP4JM98MXCl0/pzGlUcNbYD/wmxlTFtthP/70gEqce2I/XJ73pFi2YT/VPQ0dp9tePwW3XdLa8Fg/UCIg37qdUz/6UAuOedBQPxxcZnphUlE/k2UWhWbiUz820xl6fglXP5ySzqh3VVk/lyyWB58vWj9CMLgZ0jFaP2rjUoBdDFo/LKHFjG5qWj9hfI7CHG5bP9VhwzXEpFw/h+TvGEyUXT96vu84oMddP8F/UngnIV0/\",\"dtype\":\"float64\",\"order\":\"little\",\"shape\":[111]}},\"selected\":{\"id\":\"1583\"},\"selection_policy\":{\"id\":\"1582\"}},\"id\":\"1440\",\"type\":\"ColumnDataSource\"},{\"attributes\":{},\"id\":\"1476\",\"type\":\"BasicTicker\"},{\"attributes\":{\"data\":{},\"selected\":{\"id\":\"1598\"},\"selection_policy\":{\"id\":\"1597\"}},\"id\":\"1498\",\"type\":\"ColumnDataSource\"},{\"attributes\":{},\"id\":\"1419\",\"type\":\"SaveTool\"},{\"attributes\":{\"source\":{\"id\":\"1440\"}},\"id\":\"1444\",\"type\":\"CDSView\"},{\"attributes\":{},\"id\":\"1567\",\"type\":\"BasicTickFormatter\"},{\"attributes\":{\"data_source\":{\"id\":\"1440\"},\"glyph\":{\"id\":\"1441\"},\"hover_glyph\":null,\"muted_glyph\":null,\"nonselection_glyph\":{\"id\":\"1442\"},\"view\":{\"id\":\"1444\"}},\"id\":\"1443\",\"type\":\"GlyphRenderer\"},{\"attributes\":{\"line_color\":\"grey\",\"line_dash\":[6],\"x\":{\"field\":\"x\"},\"y\":{\"field\":\"y\"}},\"id\":\"1494\",\"type\":\"Line\"},{\"attributes\":{},\"id\":\"1584\",\"type\":\"UnionRenderers\"},{\"attributes\":{\"line_color\":\"grey\",\"x\":{\"field\":\"x\"},\"y\":{\"field\":\"y\"}},\"id\":\"1441\",\"type\":\"Line\"},{\"attributes\":{},\"id\":\"1585\",\"type\":\"Selection\"},{\"attributes\":{\"line_color\":\"grey\",\"x\":{\"field\":\"x\"},\"y\":{\"field\":\"y\"}},\"id\":\"1451\",\"type\":\"Line\"},{\"attributes\":{\"data\":{},\"selected\":{\"id\":\"1592\"},\"selection_policy\":{\"id\":\"1591\"}},\"id\":\"1570\",\"type\":\"ColumnDataSource\"},{\"attributes\":{\"fill_alpha\":0.2,\"fill_color\":\"#55a868\",\"x\":{\"field\":\"x\"},\"y1\":{\"value\":0},\"y2\":{\"field\":\"y2\"}},\"id\":\"1446\",\"type\":\"VArea\"},{\"attributes\":{\"overlay\":{\"id\":\"1422\"}},\"id\":\"1418\",\"type\":\"BoxZoomTool\"},{\"attributes\":{},\"id\":\"1578\",\"type\":\"UnionRenderers\"},{\"attributes\":{\"line_alpha\":0.1,\"line_color\":\"grey\",\"x\":{\"field\":\"x\"},\"y\":{\"field\":\"y\"}},\"id\":\"1442\",\"type\":\"Line\"},{\"attributes\":{},\"id\":\"1417\",\"type\":\"WheelZoomTool\"},{\"attributes\":{},\"id\":\"1579\",\"type\":\"Selection\"},{\"attributes\":{\"data\":{\"x\":{\"__ndarray__\":\"exSuR+F6pD/LoUW28/2kPxsv3SQGgaU/a7x0kxgEpj+7SQwCK4emPwvXo3A9Cqc/W2Q730+Npz+q8dJNYhCoP/p+arx0k6g/SgwCK4cWqT+amZmZmZmpP+omMQisHKo/OrTIdr6fqj+KQWDl0CKrP9rO91Pjpas/KlyPwvUorD956SYxCKysP8l2vp8aL60/GQRWDi2yrT9pke18PzWuP7kehetRuK4/CawcWmQ7rz9ZObTIdr6vP1TjpZvEILA//Knx0k1isD+kcD0K16OwP0w3iUFg5bA/9P3UeOkmsT+cxCCwcmixP0SLbOf7qbE/7FG4HoXrsT+UGARWDi2yPzzfT42XbrI/5KWbxCCwsj+MbOf7qfGyPzQzMzMzM7M/2/l+arx0sz+DwMqhRbazPyuHFtnO97M/001iEFg5tD97FK5H4Xq0PyPb+X5qvLQ/y6FFtvP9tD9zaJHtfD+1Pxsv3SQGgbU/w/UoXI/CtT9rvHSTGAS2PxODwMqhRbY/u0kMAiuHtj9jEFg5tMi2PwvXo3A9Crc/sp3vp8ZLtz9aZDvfT423PwIrhxbZzrc/qvHSTWIQuD9SuB6F61G4P/p+arx0k7g/okW28/3UuD9KDAIrhxa5P/LSTWIQWLk/mpmZmZmZuT9CYOXQItu5P+omMQisHLo/ku18PzVeuj86tMh2vp+6P+J6FK5H4bo/ikFg5dAiuz8yCKwcWmS7P9nO91Pjpbs/gZVDi2znuz8pXI/C9Si8P9Ei2/l+arw/eekmMQisvD8hsHJoke28P8l2vp8aL70/cT0K16NwvT8ZBFYOLbK9P8HKoUW2870/aZHtfD81vj8RWDm0yHa+P7kehetRuL4/YeXQItv5vj8JrBxaZDu/P7ByaJHtfL8/WDm0yHa+vz8AAAAAAADAP1TjpZvEIMA/qMZLN4lBwD/8qfHSTWLAP1CNl24Sg8A/pHA9CtejwD/4U+Olm8TAP0w3iUFg5cA/oBov3SQGwT/0/dR46SbBP0jhehSuR8E/nMQgsHJowT/wp8ZLN4nBP0SLbOf7qcE/mG4Sg8DKwT/sUbgehevBP0A1XrpJDMI/lBgEVg4twj/o+6nx0k3CPzzfT42XbsI/kML1KFyPwj/kpZvEILDCPziJQWDl0MI/i2zn+6nxwj/fT42XbhLDPzMzMzMzM8M/\",\"dtype\":\"float64\",\"order\":\"little\",\"shape\":[111]},\"y2\":{\"__ndarray__\":\"wewpdtzkgz9iM318qJ+AP6O0efUsfXw/jHQEusHDej/TedX0BMd8P0WN13GWnYA/Am6mOPovgz9q94LQojqFPzzIhpM1IIY/3wjKoJb7hT8LH64TNweFP4Or3/6OfYM/WNu5Ta+dgT/Lm2BjyWB/Pz40iWBy/3s/cM0PtWOqeT+6gS9v2qt4P0ujcgnC1ng/CxdhlvbyeT/RHO/8xsZ7PwDMCmNd3n0/jrNBVJd7fz/vpo1mett/P7XnAP7ERH4/c5vfAtDdej/Ty5/hjqx2P4nwz9StwHI/IDKA+k0acD+WBuIiRJZtPzxGKV+NVGw/Wt9vvrsTaz/0SpDhwZhoPz8BrM8lCWU/Rz0zboxhYT9APX6/WENdP7nVuxHyXFs/f6OJ4H41XT9uRi0KDBZhP+x2zuRUz2Q/p5qINiRxaT+ab1ykMoxuP4qyCDnw03E/xH1WS8UldD9pv2ziEQd2P1JCW4mLZXc/I9Hu8E04eD/bCuP0dnZ4P71oN/9sP3g/WKNHtUU4eD/Av9q/yCF5P6s5dPNmvHs/7OrVmT0ggD9gFleWXceCP45BqQk6KYU/Pm3amhWchj/WNrfp9L+GP1XgGC8cxIU/HqD4+ETogz+vHhnxUWyBPyvOftwxMn0/DUAqlduJdz+k4P/PhI5yP0PkYd231m0/d9dtGLCtaT8feMSGDvxnPxP88ssrDGg/sFcmUZsoaT+yY5zKhKBqP5E0s2pIx2s/g8Frw27waz9ulcq29YBqP7B19oneymc/yYceQ/rKZD++Vo1H34FiPzUzKGPv02E/G65GQ66UYj9iTTVpnP5jP+7uz7SJSmU/+Rwb4+LGZT8oRFrRjVtlPwIr0uTZMmQ/x9TEgVp3Yj8MYkanGlpgP7WroD3uXFw/4E9Rt0emWD9IrJVMrU1WPx5wWnQi31U/wxhjPQohVz8k12icX6hZP4JM98MXCl0/pzGlUcNbYD/wmxlTFtthP/70gEqce2I/XJ73pFi2YT/VPQ0dp9tePwW3XdLa8Fg/UCIg37qdUz/6UAuOedBQPxxcZnphUlE/k2UWhWbiUz820xl6fglXP5ySzqh3VVk/lyyWB58vWj9CMLgZ0jFaP2rjUoBdDFo/LKHFjG5qWj9hfI7CHG5bP9VhwzXEpFw/h+TvGEyUXT96vu84oMddP8F/UngnIV0/\",\"dtype\":\"float64\",\"order\":\"little\",\"shape\":[111]}},\"selected\":{\"id\":\"1585\"},\"selection_policy\":{\"id\":\"1584\"}},\"id\":\"1445\",\"type\":\"ColumnDataSource\"},{\"attributes\":{},\"id\":\"1594\",\"type\":\"Selection\"},{\"attributes\":{},\"id\":\"1593\",\"type\":\"UnionRenderers\"},{\"attributes\":{},\"id\":\"1602\",\"type\":\"Selection\"},{\"attributes\":{},\"id\":\"1601\",\"type\":\"UnionRenderers\"},{\"attributes\":{},\"id\":\"1596\",\"type\":\"Selection\"},{\"attributes\":{\"data_source\":{\"id\":\"1493\"},\"glyph\":{\"id\":\"1494\"},\"hover_glyph\":null,\"muted_glyph\":null,\"nonselection_glyph\":{\"id\":\"1495\"},\"view\":{\"id\":\"1497\"}},\"id\":\"1496\",\"type\":\"GlyphRenderer\"},{\"attributes\":{},\"id\":\"1595\",\"type\":\"UnionRenderers\"},{\"attributes\":{},\"id\":\"1592\",\"type\":\"Selection\"},{\"attributes\":{},\"id\":\"1591\",\"type\":\"UnionRenderers\"},{\"attributes\":{},\"id\":\"1586\",\"type\":\"UnionRenderers\"},{\"attributes\":{\"end\":1091,\"start\":426},\"id\":\"1463\",\"type\":\"Range1d\"},{\"attributes\":{},\"id\":\"1598\",\"type\":\"Selection\"},{\"attributes\":{},\"id\":\"1597\",\"type\":\"UnionRenderers\"},{\"attributes\":{\"axis_label\":\"RR (n)\",\"formatter\":{\"id\":\"1572\"},\"major_label_policy\":{\"id\":\"1574\"},\"ticker\":{\"id\":\"1472\"}},\"id\":\"1471\",\"type\":\"LinearAxis\"},{\"attributes\":{},\"id\":\"1467\",\"type\":\"LinearScale\"},{\"attributes\":{},\"id\":\"1588\",\"type\":\"UnionRenderers\"},{\"attributes\":{\"source\":{\"id\":\"1455\"}},\"id\":\"1459\",\"type\":\"CDSView\"},{\"attributes\":{},\"id\":\"1589\",\"type\":\"Selection\"},{\"attributes\":{},\"id\":\"1600\",\"type\":\"Selection\"},{\"attributes\":{\"below\":[{\"id\":\"1471\"}],\"center\":[{\"id\":\"1474\"},{\"id\":\"1478\"},{\"id\":\"1514\"},{\"id\":\"1517\"}],\"height\":500,\"left\":[{\"id\":\"1475\"}],\"output_backend\":\"webgl\",\"renderers\":[{\"id\":\"1496\"},{\"id\":\"1501\"},{\"id\":\"1506\"},{\"id\":\"1511\"}],\"title\":{\"id\":\"1461\"},\"toolbar\":{\"id\":\"1486\"},\"width\":500,\"x_range\":{\"id\":\"1463\"},\"x_scale\":{\"id\":\"1467\"},\"y_range\":{\"id\":\"1465\"},\"y_scale\":{\"id\":\"1469\"}},\"id\":\"1460\",\"subtype\":\"Figure\",\"type\":\"Plot\"},{\"attributes\":{},\"id\":\"1599\",\"type\":\"UnionRenderers\"},{\"attributes\":{},\"id\":\"1587\",\"type\":\"Selection\"},{\"attributes\":{\"text\":\"Pointcar\\u00e9 plot\"},\"id\":\"1461\",\"type\":\"Title\"}],\"root_ids\":[\"1519\"]},\"title\":\"Bokeh Application\",\"version\":\"2.3.3\"}};\n",
       "  var render_items = [{\"docid\":\"456d47b6-8a99-4821-b7a7-ed914f08d550\",\"root_ids\":[\"1519\"],\"roots\":{\"1519\":\"42b32c52-f594-4df3-98b7-d41f20c69941\"}}];\n",
       "  root.Bokeh.embed.embed_items_notebook(docs_json, render_items);\n",
       "\n",
       "  }\n",
       "  if (root.Bokeh !== undefined) {\n",
       "    embed_document(root);\n",
       "  } else {\n",
       "    var attempts = 0;\n",
       "    var timer = setInterval(function(root) {\n",
       "      if (root.Bokeh !== undefined) {\n",
       "        clearInterval(timer);\n",
       "        embed_document(root);\n",
       "      } else {\n",
       "        attempts++;\n",
       "        if (attempts > 100) {\n",
       "          clearInterval(timer);\n",
       "          console.log(\"Bokeh: ERROR: Unable to run BokehJS code because BokehJS library is missing\");\n",
       "        }\n",
       "      }\n",
       "    }, 10, root)\n",
       "  }\n",
       "})(window);"
      ],
      "application/vnd.bokehjs_exec.v0+json": ""
     },
     "metadata": {
      "application/vnd.bokehjs_exec.v0+json": {
       "id": "1519"
      }
     },
     "output_type": "display_data"
    }
   ],
   "source": [
    "show(\n",
    "    row(\n",
    "        plot_frequency(peaks, input_type=\"peaks\", backend=\"bokeh\", figsize=(600, 500)),\n",
    "        plot_pointcare(peaks, input_type=\"peaks\", backend=\"bokeh\", figsize=(500, 500)),\n",
    "    )\n",
    ")"
   ]
  },
  {
   "cell_type": "code",
   "execution_count": null,
   "id": "db817144",
   "metadata": {},
   "outputs": [],
   "source": []
  }
 ],
 "metadata": {
  "kernelspec": {
   "display_name": "Python 3 (ipykernel)",
   "language": "python",
   "name": "python3"
  },
  "language_info": {
   "codemirror_mode": {
    "name": "ipython",
    "version": 3
   },
   "file_extension": ".py",
   "mimetype": "text/x-python",
   "name": "python",
   "nbconvert_exporter": "python",
   "pygments_lexer": "ipython3",
   "version": "3.7.9"
  }
 },
 "nbformat": 4,
 "nbformat_minor": 5
}
